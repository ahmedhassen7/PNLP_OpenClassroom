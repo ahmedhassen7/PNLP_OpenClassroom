{
  "nbformat": 4,
  "nbformat_minor": 0,
  "metadata": {
    "colab": {
      "name": "P_NLP_model_Supervised.ipynb",
      "provenance": []
    },
    "kernelspec": {
      "name": "python3",
      "display_name": "Python 3"
    },
    "language_info": {
      "name": "python"
    }
  },
  "cells": [
    {
      "cell_type": "markdown",
      "metadata": {
        "id": "s6V40vUV9tM1"
      },
      "source": [
        "# **Table of contents**\n",
        "\n",
        "\n",
        "1.   Import Libraries\n",
        "     *   load data\n",
        "\n",
        "2.   EDA on Tags features\n",
        "\n",
        "  *   checking the top tags\n",
        "  *   tags per question\n",
        "\n",
        "3.   Topic assignment: Supervised Methods \n",
        "\n",
        "   *   Loading and generating Multi-label datasets\n",
        "       *  Filtering top 100 main_tags\n",
        "       *  Generating Multi-label Datasets\n",
        "   *   Problem transformation Method\n",
        "       * Binary relevance\n",
        "       * Classifer chain\n",
        "       * Label Powerset\n",
        "\n",
        "   *   OneVsRest Classifeir\n",
        "\n",
        "   *   Adapted Algorithm\n",
        "       * Multi knn classifier\n",
        "       * Tuning hyper-parameters for multikNN model\n",
        "   *   Final model\n",
        "\n",
        "      * Test on unseen document"
      ]
    },
    {
      "cell_type": "markdown",
      "metadata": {
        "id": "i5cVY_bFhzcX"
      },
      "source": [
        "## **Import Libraries**"
      ]
    },
    {
      "cell_type": "code",
      "metadata": {
        "id": "lRK-fRlxr0tH",
        "colab": {
          "base_uri": "https://localhost:8080/"
        },
        "outputId": "310ff876-c178-4a5f-830b-05ad39d45977"
      },
      "source": [
        "pip install scikit-multilearn"
      ],
      "execution_count": 1,
      "outputs": [
        {
          "output_type": "stream",
          "text": [
            "Collecting scikit-multilearn\n",
            "\u001b[?25l  Downloading https://files.pythonhosted.org/packages/bb/1f/e6ff649c72a1cdf2c7a1d31eb21705110ce1c5d3e7e26b2cc300e1637272/scikit_multilearn-0.2.0-py3-none-any.whl (89kB)\n",
            "\r\u001b[K     |███▊                            | 10kB 15.6MB/s eta 0:00:01\r\u001b[K     |███████▍                        | 20kB 12.5MB/s eta 0:00:01\r\u001b[K     |███████████                     | 30kB 8.6MB/s eta 0:00:01\r\u001b[K     |██████████████▊                 | 40kB 7.6MB/s eta 0:00:01\r\u001b[K     |██████████████████▍             | 51kB 4.3MB/s eta 0:00:01\r\u001b[K     |██████████████████████          | 61kB 4.5MB/s eta 0:00:01\r\u001b[K     |█████████████████████████▊      | 71kB 4.6MB/s eta 0:00:01\r\u001b[K     |█████████████████████████████▍  | 81kB 5.0MB/s eta 0:00:01\r\u001b[K     |████████████████████████████████| 92kB 3.7MB/s \n",
            "\u001b[?25hInstalling collected packages: scikit-multilearn\n",
            "Successfully installed scikit-multilearn-0.2.0\n"
          ],
          "name": "stdout"
        }
      ]
    },
    {
      "cell_type": "code",
      "metadata": {
        "id": "y-f2V7GMw-si",
        "colab": {
          "base_uri": "https://localhost:8080/"
        },
        "outputId": "f79181e4-a144-4889-f59c-c419a8fa3424"
      },
      "source": [
        "import pandas as pd\n",
        "import numpy as np\n",
        "import matplotlib.pyplot as plt\n",
        "import seaborn as sns \n",
        "import nltk\n",
        "from sklearn.multiclass import OneVsRestClassifier\n",
        "from nltk.tokenize import word_tokenize\n",
        "from skmultilearn.adapt import MLkNN\n",
        "from sklearn.linear_model import LogisticRegression\n",
        "from sklearn.neighbors import KNeighborsClassifier\n",
        "from sklearn.ensemble import RandomForestClassifier\n",
        "from skmultilearn.problem_transform import LabelPowerset,ClassifierChain,BinaryRelevance\n",
        "from sklearn.metrics import accuracy_score,hamming_loss\n",
        "from sklearn.feature_extraction.text import CountVectorizer,TfidfTransformer,TfidfVectorizer\n",
        "from sklearn.model_selection import train_test_split\n",
        "from sklearn.naive_bayes import GaussianNB\n",
        "from sklearn.pipeline import make_pipeline,Pipeline\n",
        "from xgboost import XGBClassifier\n",
        "from sklearn.model_selection import RandomizedSearchCV\n",
        "nltk.download('punkt')\n",
        "%matplotlib inline"
      ],
      "execution_count": 2,
      "outputs": [
        {
          "output_type": "stream",
          "text": [
            "[nltk_data] Downloading package punkt to /root/nltk_data...\n",
            "[nltk_data]   Unzipping tokenizers/punkt.zip.\n"
          ],
          "name": "stdout"
        }
      ]
    },
    {
      "cell_type": "markdown",
      "metadata": {
        "id": "vsHvidGa7ej4"
      },
      "source": [
        "### Load the data"
      ]
    },
    {
      "cell_type": "code",
      "metadata": {
        "id": "jLch4bUg7eKu"
      },
      "source": [
        "data=pd.read_csv('/content/drive/MyDrive/Formation_Machine_Learning/P_NLP/data/data.csv')"
      ],
      "execution_count": 3,
      "outputs": []
    },
    {
      "cell_type": "code",
      "metadata": {
        "id": "lHc4isVx1D4g"
      },
      "source": [
        "data.dropna(inplace=True)"
      ],
      "execution_count": 4,
      "outputs": []
    },
    {
      "cell_type": "code",
      "metadata": {
        "id": "8nLgSyi0769h"
      },
      "source": [
        "data_nouns=pd.read_csv('/content/drive/MyDrive/Formation_Machine_Learning/P_NLP/data/data_nouns.csv')"
      ],
      "execution_count": 114,
      "outputs": []
    },
    {
      "cell_type": "code",
      "metadata": {
        "id": "Qtl9uhns_hHO"
      },
      "source": [
        "data_nouns.dropna(inplace=True)"
      ],
      "execution_count": null,
      "outputs": []
    },
    {
      "cell_type": "code",
      "metadata": {
        "colab": {
          "base_uri": "https://localhost:8080/",
          "height": 391
        },
        "id": "ma5-8bQOgmm-",
        "outputId": "5580a453-2873-4d0f-c6e1-f2e9f2082a9d"
      },
      "source": [
        "data"
      ],
      "execution_count": 5,
      "outputs": [
        {
          "output_type": "execute_result",
          "data": {
            "text/html": [
              "<div>\n",
              "<style scoped>\n",
              "    .dataframe tbody tr th:only-of-type {\n",
              "        vertical-align: middle;\n",
              "    }\n",
              "\n",
              "    .dataframe tbody tr th {\n",
              "        vertical-align: top;\n",
              "    }\n",
              "\n",
              "    .dataframe thead th {\n",
              "        text-align: right;\n",
              "    }\n",
              "</style>\n",
              "<table border=\"1\" class=\"dataframe\">\n",
              "  <thead>\n",
              "    <tr style=\"text-align: right;\">\n",
              "      <th></th>\n",
              "      <th>Title</th>\n",
              "      <th>Body</th>\n",
              "      <th>Code</th>\n",
              "      <th>Tags</th>\n",
              "    </tr>\n",
              "  </thead>\n",
              "  <tbody>\n",
              "    <tr>\n",
              "      <th>0</th>\n",
              "      <td>export default import vue find vue</td>\n",
              "      <td>beginner vuejs first app save nothing appear b...</td>\n",
              "      <td>import   bootstrapvue   from  bootstrap vue  i...</td>\n",
              "      <td>vuejs</td>\n",
              "    </tr>\n",
              "    <tr>\n",
              "      <th>1</th>\n",
              "      <td>iterate two list parallel kotlin</td>\n",
              "      <td>iterate two list kotlin assign value one list ...</td>\n",
              "      <td>textviewdata class total val area   double  pr...</td>\n",
              "      <td>list kotlin</td>\n",
              "    </tr>\n",
              "    <tr>\n",
              "      <th>2</th>\n",
              "      <td>directory contain directory</td>\n",
              "      <td>currently exclude directory contain sub direct...</td>\n",
              "      <td>find  type a sub b sub sub dub sub bub   fin...</td>\n",
              "      <td>bash find</td>\n",
              "    </tr>\n",
              "    <tr>\n",
              "      <th>3</th>\n",
              "      <td>faster element roll permutation swap two list</td>\n",
              "      <td>two list like take combination two list place ...</td>\n",
              "      <td>x a c    original lists y b a c             we...</td>\n",
              "      <td>python list algorithm</td>\n",
              "    </tr>\n",
              "    <tr>\n",
              "      <th>4</th>\n",
              "      <td>wait open txt file notepad cplusplus</td>\n",
              "      <td>open txt file notepad continue close notepad c...</td>\n",
              "      <td>string string topicname c   hello  hi  hi txt ...</td>\n",
              "      <td>cplusplus windows</td>\n",
              "    </tr>\n",
              "    <tr>\n",
              "      <th>...</th>\n",
              "      <td>...</td>\n",
              "      <td>...</td>\n",
              "      <td>...</td>\n",
              "      <td>...</td>\n",
              "    </tr>\n",
              "    <tr>\n",
              "      <th>9995</th>\n",
              "      <td>swiftui state sheet VisualStudio</td>\n",
              "      <td>hello run problem consistent behavior sheet vi...</td>\n",
              "      <td>state private var label  string    quot  quot...</td>\n",
              "      <td>swiftui</td>\n",
              "    </tr>\n",
              "    <tr>\n",
              "      <th>9996</th>\n",
              "      <td>update google ads sdk onadfailedtoload depreca...</td>\n",
              "      <td>update google ads sdk give deprecated warning ...</td>\n",
              "      <td>onadfailedtoload  public void banneradmob     ...</td>\n",
              "      <td>android admob banner ads</td>\n",
              "    </tr>\n",
              "    <tr>\n",
              "      <th>9997</th>\n",
              "      <td>entry res color material_on_surface_disabled x...</td>\n",
              "      <td>create sign apk add two file project my_web_ac...</td>\n",
              "      <td>lt  xml version     encoding  utf    gt   lt ...</td>\n",
              "      <td>android studio layout kotlin webview</td>\n",
              "    </tr>\n",
              "    <tr>\n",
              "      <th>9998</th>\n",
              "      <td>csharp perform short circuit evaluation statem...</td>\n",
              "      <td>believe csharp stop evaluate statement conditi...</td>\n",
              "      <td>if      lt     amp  amp  check_something_else ...</td>\n",
              "      <td>csharp if statement async await short circuiting</td>\n",
              "    </tr>\n",
              "    <tr>\n",
              "      <th>9999</th>\n",
              "      <td>handle secret build time purpose unit integrat...</td>\n",
              "      <td>case docker container deploy cloud unit test b...</td>\n",
              "      <td>cloud build local   config build_config cloud...</td>\n",
              "      <td>google cloud platform build run</td>\n",
              "    </tr>\n",
              "  </tbody>\n",
              "</table>\n",
              "<p>9977 rows × 4 columns</p>\n",
              "</div>"
            ],
            "text/plain": [
              "                                                  Title  ...                                              Tags\n",
              "0                    export default import vue find vue  ...                                             vuejs\n",
              "1                      iterate two list parallel kotlin  ...                                       list kotlin\n",
              "2                           directory contain directory  ...                                         bash find\n",
              "3         faster element roll permutation swap two list  ...                             python list algorithm\n",
              "4                  wait open txt file notepad cplusplus  ...                                 cplusplus windows\n",
              "...                                                 ...  ...                                               ...\n",
              "9995                   swiftui state sheet VisualStudio  ...                                           swiftui\n",
              "9996  update google ads sdk onadfailedtoload depreca...  ...                          android admob banner ads\n",
              "9997  entry res color material_on_surface_disabled x...  ...              android studio layout kotlin webview\n",
              "9998  csharp perform short circuit evaluation statem...  ...  csharp if statement async await short circuiting\n",
              "9999  handle secret build time purpose unit integrat...  ...                   google cloud platform build run\n",
              "\n",
              "[9977 rows x 4 columns]"
            ]
          },
          "metadata": {
            "tags": []
          },
          "execution_count": 5
        }
      ]
    },
    {
      "cell_type": "markdown",
      "metadata": {
        "id": "Lp51fUB6lqNB"
      },
      "source": [
        "## **Exploratory Data Analysis of Tags feature**"
      ]
    },
    {
      "cell_type": "markdown",
      "metadata": {
        "id": "B28pIpsdlyAo"
      },
      "source": [
        "### checking the top tags "
      ]
    },
    {
      "cell_type": "code",
      "metadata": {
        "colab": {
          "base_uri": "https://localhost:8080/",
          "height": 455
        },
        "id": "FvaWNZjTPZn4",
        "outputId": "45d651c3-41de-487e-8d6b-98f6612a3906"
      },
      "source": [
        "count_tags=data['Tags'].value_counts().head(20)\n",
        "plt.figure(figsize=(12,4))\n",
        "sns.barplot(count_tags.index, count_tags.values, alpha=0.8)\n",
        "plt.ylabel('Number of Occurrences', fontsize=12)\n",
        "plt.xlabel('Tags', fontsize=12)\n",
        "plt.xticks(rotation=90)\n",
        "plt.show()"
      ],
      "execution_count": null,
      "outputs": [
        {
          "output_type": "stream",
          "text": [
            "/usr/local/lib/python3.7/dist-packages/seaborn/_decorators.py:43: FutureWarning: Pass the following variables as keyword args: x, y. From version 0.12, the only valid positional argument will be `data`, and passing other arguments without an explicit keyword will result in an error or misinterpretation.\n",
            "  FutureWarning\n"
          ],
          "name": "stderr"
        },
        {
          "output_type": "display_data",
          "data": {
            "image/png": "[encoded data removed]",
            "text/plain": [
              "<Figure size 864x288 with 1 Axes>"
            ]
          },
          "metadata": {
            "tags": [],
            "needs_background": "light"
          }
        }
      ]
    },
    {
      "cell_type": "markdown",
      "metadata": {
        "id": "5T63lwT8AQKW"
      },
      "source": [
        "it seems like our users most recent researchs are dedicated to datascience with python and pandas.\n",
        "\n",
        "Lets check the rest of the top tags: \n",
        "\n",
        "- python pandas \n",
        "- R language\n",
        "- Javascripts \n",
        "- C++"
      ]
    },
    {
      "cell_type": "markdown",
      "metadata": {
        "id": "n5CciZ2_l5kD"
      },
      "source": [
        "### Counting the number of tags associated with each question."
      ]
    },
    {
      "cell_type": "code",
      "metadata": {
        "colab": {
          "base_uri": "https://localhost:8080/",
          "height": 402
        },
        "id": "v1FU77SxmPYz",
        "outputId": "6d8a0c99-b3ba-4673-a773-9365075c3d90"
      },
      "source": [
        "# We are going to add new feature corresponding of counting tags\n",
        "data['Tags_count']=data['Tags'].apply(lambda x: len(str(x).split(' ')))\n",
        "tag_length=data['Tags_count'].value_counts()\n",
        "plt.figure(figsize=(10,5))\n",
        "#sns.countplot(df_no_dup.tag_count, palette='gist_rainbow')\n",
        "sns.barplot(tag_length.index,tag_length.values)\n",
        "plt.title(\"Distribution of the number of tags per question\")\n",
        "plt.xlabel(\"Number of Tags\")\n",
        "plt.ylabel(\"Number of questions\")\n",
        "plt.show()"
      ],
      "execution_count": null,
      "outputs": [
        {
          "output_type": "stream",
          "text": [
            "/usr/local/lib/python3.7/dist-packages/seaborn/_decorators.py:43: FutureWarning: Pass the following variables as keyword args: x, y. From version 0.12, the only valid positional argument will be `data`, and passing other arguments without an explicit keyword will result in an error or misinterpretation.\n",
            "  FutureWarning\n"
          ],
          "name": "stderr"
        },
        {
          "output_type": "display_data",
          "data": {
            "image/png": "[encoded data removed]",
            "text/plain": [
              "<Figure size 720x360 with 1 Axes>"
            ]
          },
          "metadata": {
            "tags": [],
            "needs_background": "light"
          }
        }
      ]
    },
    {
      "cell_type": "markdown",
      "metadata": {
        "id": "NOqoE2tNA8WR"
      },
      "source": [
        "- This shows that we have a normal distribution of our tags with the questions asked.\n",
        "\n",
        "- most of the requests were given between 2 and 4 tags \n",
        "\n",
        "- we have some outliers like 10 and 11 tags which seems a bit extreme"
      ]
    },
    {
      "cell_type": "markdown",
      "metadata": {
        "id": "LVYesW8ejJ5L"
      },
      "source": [
        "# **Topic assignment: Supervised Methods**"
      ]
    },
    {
      "cell_type": "markdown",
      "metadata": {
        "id": "IAYVtjNE6enm"
      },
      "source": [
        "## **Loading and Generating Multi-Label Datasets**\n"
      ]
    },
    {
      "cell_type": "markdown",
      "metadata": {
        "id": "lQpjNHbH76QM"
      },
      "source": [
        "### Filtering top100  **main_tags**"
      ]
    },
    {
      "cell_type": "code",
      "metadata": {
        "id": "HcjbEP317Z7z"
      },
      "source": [
        "def top_tags(df,max_tags):\n",
        "\n",
        "  #BOW from the tags\n",
        "  tag_vect=CountVectorizer()\n",
        "  vectorized_tags=tag_vect.fit_transform(df['Tags'])\n",
        "\n",
        "  #filter the top 100 tags according to occurences \n",
        "  tags_count=np.sum(vectorized_tags.toarray(),axis=0)\n",
        "  sorted_tags=np.argsort(-tags_count)\n",
        "  top_tags_index=sorted_tags[:max_tags]\n",
        "\n",
        "  tags_dict={'tag':[],\n",
        "             'tag_occurences':[]}\n",
        "\n",
        "  for i in top_tags_index:\n",
        "    tags_dict['tag'].append(tag_vect.get_feature_names()[i])\n",
        "    tags_dict['tag_occurences'].append(tags_count[i])\n",
        "\n",
        "  return pd.DataFrame(tags_dict)"
      ],
      "execution_count": 7,
      "outputs": []
    },
    {
      "cell_type": "markdown",
      "metadata": {
        "id": "kVXPK8PZBuZy"
      },
      "source": [
        "This function help us identify the occurence of each tag along all the tags provided. \n",
        "\n",
        "In order to be sufficient, we are going to filter the tags and take into consideration the top 100 tags "
      ]
    },
    {
      "cell_type": "code",
      "metadata": {
        "colab": {
          "base_uri": "https://localhost:8080/",
          "height": 335
        },
        "id": "qJcXxwRtCtFq",
        "outputId": "90289e3a-d651-4e95-9aae-c8b0b81f7db6"
      },
      "source": [
        "top_tag_dt=top_tags(data,100)\n",
        "top_tag_dt.head(10)"
      ],
      "execution_count": 8,
      "outputs": [
        {
          "output_type": "execute_result",
          "data": {
            "text/html": [
              "<div>\n",
              "<style scoped>\n",
              "    .dataframe tbody tr th:only-of-type {\n",
              "        vertical-align: middle;\n",
              "    }\n",
              "\n",
              "    .dataframe tbody tr th {\n",
              "        vertical-align: top;\n",
              "    }\n",
              "\n",
              "    .dataframe thead th {\n",
              "        text-align: right;\n",
              "    }\n",
              "</style>\n",
              "<table border=\"1\" class=\"dataframe\">\n",
              "  <thead>\n",
              "    <tr style=\"text-align: right;\">\n",
              "      <th></th>\n",
              "      <th>tag</th>\n",
              "      <th>tag_occurences</th>\n",
              "    </tr>\n",
              "  </thead>\n",
              "  <tbody>\n",
              "    <tr>\n",
              "      <th>0</th>\n",
              "      <td>python</td>\n",
              "      <td>1876</td>\n",
              "    </tr>\n",
              "    <tr>\n",
              "      <th>1</th>\n",
              "      <td>javascript</td>\n",
              "      <td>1023</td>\n",
              "    </tr>\n",
              "    <tr>\n",
              "      <th>2</th>\n",
              "      <td>java</td>\n",
              "      <td>782</td>\n",
              "    </tr>\n",
              "    <tr>\n",
              "      <th>3</th>\n",
              "      <td>rlang</td>\n",
              "      <td>694</td>\n",
              "    </tr>\n",
              "    <tr>\n",
              "      <th>4</th>\n",
              "      <td>cplusplus</td>\n",
              "      <td>625</td>\n",
              "    </tr>\n",
              "    <tr>\n",
              "      <th>5</th>\n",
              "      <td>android</td>\n",
              "      <td>530</td>\n",
              "    </tr>\n",
              "    <tr>\n",
              "      <th>6</th>\n",
              "      <td>reactjs</td>\n",
              "      <td>486</td>\n",
              "    </tr>\n",
              "    <tr>\n",
              "      <th>7</th>\n",
              "      <td>pandas</td>\n",
              "      <td>448</td>\n",
              "    </tr>\n",
              "    <tr>\n",
              "      <th>8</th>\n",
              "      <td>js</td>\n",
              "      <td>360</td>\n",
              "    </tr>\n",
              "    <tr>\n",
              "      <th>9</th>\n",
              "      <td>html</td>\n",
              "      <td>338</td>\n",
              "    </tr>\n",
              "  </tbody>\n",
              "</table>\n",
              "</div>"
            ],
            "text/plain": [
              "          tag  tag_occurences\n",
              "0      python            1876\n",
              "1  javascript            1023\n",
              "2        java             782\n",
              "3       rlang             694\n",
              "4   cplusplus             625\n",
              "5     android             530\n",
              "6     reactjs             486\n",
              "7      pandas             448\n",
              "8          js             360\n",
              "9        html             338"
            ]
          },
          "metadata": {
            "tags": []
          },
          "execution_count": 8
        }
      ]
    },
    {
      "cell_type": "markdown",
      "metadata": {
        "id": "0eIkLh2ADTPn"
      },
      "source": [
        "- As it was expected,we got **Python**, **Javascript**, **C++** as our top tags \n",
        "\n",
        "- Next we are going to keep **tags list** which contains only tags from the **top_tag** dataframe, in order to focus on the main tags "
      ]
    },
    {
      "cell_type": "markdown",
      "metadata": {
        "id": "vkIwy-fFJwu-"
      },
      "source": [
        "### **Generating Multi-Label Datasets**"
      ]
    },
    {
      "cell_type": "markdown",
      "metadata": {
        "id": "8ug7l35eCQ4P"
      },
      "source": [
        "In order to generate the Multi-label dataset we need to: \n",
        "\n",
        "- keep only questions which contains the tags from the previous selection of tags \n",
        "\n",
        "- perform a onehot encoding to the multi-labels \n",
        "\n",
        "- and then merge the two dataframes"
      ]
    },
    {
      "cell_type": "code",
      "metadata": {
        "id": "kMHDDU-yGFhs"
      },
      "source": [
        "def MultiLabel_data(df):\n",
        "\n",
        "  #create main_tags from the top_tag data\n",
        "\n",
        "  df['main_tags']=df['Tags'].apply(lambda x: ' '.join(word for word in word_tokenize(x) if word in top_tag_dt['tag'].values.tolist()))\n",
        "  df.loc[df['main_tags']=='','main_tags']=np.nan\n",
        "  df.dropna(inplace=True)\n",
        "\n",
        "  #encode the tags\n",
        "\n",
        "  tags_vect=CountVectorizer()\n",
        "  tags_values=tags_vect.fit_transform(df['main_tags'])\n",
        "  encoded_tags=pd.DataFrame(tags_values.toarray(),columns=tags_vect.get_feature_names(),index=df.index)\n",
        "\n",
        "  #join data with encoded data in order to get the multi-label dataset\n",
        "\n",
        "  df=df.join(encoded_tags)\n",
        "  \n",
        "  return df"
      ],
      "execution_count": 9,
      "outputs": []
    },
    {
      "cell_type": "code",
      "metadata": {
        "id": "uoOpqKe3Ok_1"
      },
      "source": [
        "data_labels=MultiLabel_data(data)"
      ],
      "execution_count": 10,
      "outputs": []
    },
    {
      "cell_type": "code",
      "metadata": {
        "colab": {
          "base_uri": "https://localhost:8080/",
          "height": 450
        },
        "id": "IYVuYVSNvnK7",
        "outputId": "6e8301f5-604b-419f-e203-5b3bc553fa47"
      },
      "source": [
        "data_labels.sample(3)"
      ],
      "execution_count": null,
      "outputs": [
        {
          "output_type": "execute_result",
          "data": {
            "text/html": [
              "<div>\n",
              "<style scoped>\n",
              "    .dataframe tbody tr th:only-of-type {\n",
              "        vertical-align: middle;\n",
              "    }\n",
              "\n",
              "    .dataframe tbody tr th {\n",
              "        vertical-align: top;\n",
              "    }\n",
              "\n",
              "    .dataframe thead th {\n",
              "        text-align: right;\n",
              "    }\n",
              "</style>\n",
              "<table border=\"1\" class=\"dataframe\">\n",
              "  <thead>\n",
              "    <tr style=\"text-align: right;\">\n",
              "      <th></th>\n",
              "      <th>Title</th>\n",
              "      <th>Body</th>\n",
              "      <th>Code</th>\n",
              "      <th>Tags</th>\n",
              "      <th>main_tags</th>\n",
              "      <th>algorithm</th>\n",
              "      <th>amazon</th>\n",
              "      <th>android</th>\n",
              "      <th>angular</th>\n",
              "      <th>apache</th>\n",
              "      <th>api</th>\n",
              "      <th>arrays</th>\n",
              "      <th>asp</th>\n",
              "      <th>aws</th>\n",
              "      <th>azure</th>\n",
              "      <th>bash</th>\n",
              "      <th>boot</th>\n",
              "      <th>clang</th>\n",
              "      <th>cloud</th>\n",
              "      <th>code</th>\n",
              "      <th>compose</th>\n",
              "      <th>core</th>\n",
              "      <th>cplusplus</th>\n",
              "      <th>csharp</th>\n",
              "      <th>css</th>\n",
              "      <th>dart</th>\n",
              "      <th>data</th>\n",
              "      <th>dataframe</th>\n",
              "      <th>django</th>\n",
              "      <th>docker</th>\n",
              "      <th>dplyr</th>\n",
              "      <th>excel</th>\n",
              "      <th>firebase</th>\n",
              "      <th>flutter</th>\n",
              "      <th>for</th>\n",
              "      <th>framework</th>\n",
              "      <th>function</th>\n",
              "      <th>functions</th>\n",
              "      <th>generics</th>\n",
              "      <th>git</th>\n",
              "      <th>...</th>\n",
              "      <th>multithreading</th>\n",
              "      <th>mysql</th>\n",
              "      <th>native</th>\n",
              "      <th>net</th>\n",
              "      <th>next</th>\n",
              "      <th>node</th>\n",
              "      <th>npm</th>\n",
              "      <th>numpy</th>\n",
              "      <th>pandas</th>\n",
              "      <th>performance</th>\n",
              "      <th>php</th>\n",
              "      <th>postgresql</th>\n",
              "      <th>powershell</th>\n",
              "      <th>programming</th>\n",
              "      <th>python</th>\n",
              "      <th>react</th>\n",
              "      <th>reactjs</th>\n",
              "      <th>regex</th>\n",
              "      <th>rlang</th>\n",
              "      <th>ruby</th>\n",
              "      <th>scala</th>\n",
              "      <th>server</th>\n",
              "      <th>services</th>\n",
              "      <th>spark</th>\n",
              "      <th>spring</th>\n",
              "      <th>sql</th>\n",
              "      <th>stream</th>\n",
              "      <th>string</th>\n",
              "      <th>studio</th>\n",
              "      <th>swift</th>\n",
              "      <th>swiftui</th>\n",
              "      <th>templates</th>\n",
              "      <th>tensorflow</th>\n",
              "      <th>tidyverse</th>\n",
              "      <th>typescript</th>\n",
              "      <th>visual</th>\n",
              "      <th>vuejs</th>\n",
              "      <th>web</th>\n",
              "      <th>windows</th>\n",
              "      <th>xcode</th>\n",
              "    </tr>\n",
              "  </thead>\n",
              "  <tbody>\n",
              "    <tr>\n",
              "      <th>1187</th>\n",
              "      <td>express delete work give find error</td>\n",
              "      <td>use boilerplate api use express typeorm typesc...</td>\n",
              "      <td>not foundquestion ts entity   export class que...</td>\n",
              "      <td>typescript express typeorm</td>\n",
              "      <td>typescript</td>\n",
              "      <td>0</td>\n",
              "      <td>0</td>\n",
              "      <td>0</td>\n",
              "      <td>0</td>\n",
              "      <td>0</td>\n",
              "      <td>0</td>\n",
              "      <td>0</td>\n",
              "      <td>0</td>\n",
              "      <td>0</td>\n",
              "      <td>0</td>\n",
              "      <td>0</td>\n",
              "      <td>0</td>\n",
              "      <td>0</td>\n",
              "      <td>0</td>\n",
              "      <td>0</td>\n",
              "      <td>0</td>\n",
              "      <td>0</td>\n",
              "      <td>0</td>\n",
              "      <td>0</td>\n",
              "      <td>0</td>\n",
              "      <td>0</td>\n",
              "      <td>0</td>\n",
              "      <td>0</td>\n",
              "      <td>0</td>\n",
              "      <td>0</td>\n",
              "      <td>0</td>\n",
              "      <td>0</td>\n",
              "      <td>0</td>\n",
              "      <td>0</td>\n",
              "      <td>0</td>\n",
              "      <td>0</td>\n",
              "      <td>0</td>\n",
              "      <td>0</td>\n",
              "      <td>0</td>\n",
              "      <td>0</td>\n",
              "      <td>...</td>\n",
              "      <td>0</td>\n",
              "      <td>0</td>\n",
              "      <td>0</td>\n",
              "      <td>0</td>\n",
              "      <td>0</td>\n",
              "      <td>0</td>\n",
              "      <td>0</td>\n",
              "      <td>0</td>\n",
              "      <td>0</td>\n",
              "      <td>0</td>\n",
              "      <td>0</td>\n",
              "      <td>0</td>\n",
              "      <td>0</td>\n",
              "      <td>0</td>\n",
              "      <td>0</td>\n",
              "      <td>0</td>\n",
              "      <td>0</td>\n",
              "      <td>0</td>\n",
              "      <td>0</td>\n",
              "      <td>0</td>\n",
              "      <td>0</td>\n",
              "      <td>0</td>\n",
              "      <td>0</td>\n",
              "      <td>0</td>\n",
              "      <td>0</td>\n",
              "      <td>0</td>\n",
              "      <td>0</td>\n",
              "      <td>0</td>\n",
              "      <td>0</td>\n",
              "      <td>0</td>\n",
              "      <td>0</td>\n",
              "      <td>0</td>\n",
              "      <td>0</td>\n",
              "      <td>0</td>\n",
              "      <td>1</td>\n",
              "      <td>0</td>\n",
              "      <td>0</td>\n",
              "      <td>0</td>\n",
              "      <td>0</td>\n",
              "      <td>0</td>\n",
              "    </tr>\n",
              "    <tr>\n",
              "      <th>9274</th>\n",
              "      <td>dbcontext di desktop application</td>\n",
              "      <td>work several non web application always strugg...</td>\n",
              "      <td>entity frameworkgeneric repositorydbcontext pe...</td>\n",
              "      <td>csharp wpf entity framework net core dependenc...</td>\n",
              "      <td>csharp framework net core</td>\n",
              "      <td>0</td>\n",
              "      <td>0</td>\n",
              "      <td>0</td>\n",
              "      <td>0</td>\n",
              "      <td>0</td>\n",
              "      <td>0</td>\n",
              "      <td>0</td>\n",
              "      <td>0</td>\n",
              "      <td>0</td>\n",
              "      <td>0</td>\n",
              "      <td>0</td>\n",
              "      <td>0</td>\n",
              "      <td>0</td>\n",
              "      <td>0</td>\n",
              "      <td>0</td>\n",
              "      <td>0</td>\n",
              "      <td>1</td>\n",
              "      <td>0</td>\n",
              "      <td>1</td>\n",
              "      <td>0</td>\n",
              "      <td>0</td>\n",
              "      <td>0</td>\n",
              "      <td>0</td>\n",
              "      <td>0</td>\n",
              "      <td>0</td>\n",
              "      <td>0</td>\n",
              "      <td>0</td>\n",
              "      <td>0</td>\n",
              "      <td>0</td>\n",
              "      <td>0</td>\n",
              "      <td>1</td>\n",
              "      <td>0</td>\n",
              "      <td>0</td>\n",
              "      <td>0</td>\n",
              "      <td>0</td>\n",
              "      <td>...</td>\n",
              "      <td>0</td>\n",
              "      <td>0</td>\n",
              "      <td>0</td>\n",
              "      <td>1</td>\n",
              "      <td>0</td>\n",
              "      <td>0</td>\n",
              "      <td>0</td>\n",
              "      <td>0</td>\n",
              "      <td>0</td>\n",
              "      <td>0</td>\n",
              "      <td>0</td>\n",
              "      <td>0</td>\n",
              "      <td>0</td>\n",
              "      <td>0</td>\n",
              "      <td>0</td>\n",
              "      <td>0</td>\n",
              "      <td>0</td>\n",
              "      <td>0</td>\n",
              "      <td>0</td>\n",
              "      <td>0</td>\n",
              "      <td>0</td>\n",
              "      <td>0</td>\n",
              "      <td>0</td>\n",
              "      <td>0</td>\n",
              "      <td>0</td>\n",
              "      <td>0</td>\n",
              "      <td>0</td>\n",
              "      <td>0</td>\n",
              "      <td>0</td>\n",
              "      <td>0</td>\n",
              "      <td>0</td>\n",
              "      <td>0</td>\n",
              "      <td>0</td>\n",
              "      <td>0</td>\n",
              "      <td>0</td>\n",
              "      <td>0</td>\n",
              "      <td>0</td>\n",
              "      <td>0</td>\n",
              "      <td>0</td>\n",
              "      <td>0</td>\n",
              "    </tr>\n",
              "    <tr>\n",
              "      <th>7944</th>\n",
              "      <td>inflate progressbar layout duplication api</td>\n",
              "      <td>flow app declare endpoint retrofit service ins...</td>\n",
              "      <td>public interface endpoints    get constants po...</td>\n",
              "      <td>java android mvvm progressbar</td>\n",
              "      <td>java android</td>\n",
              "      <td>0</td>\n",
              "      <td>0</td>\n",
              "      <td>1</td>\n",
              "      <td>0</td>\n",
              "      <td>0</td>\n",
              "      <td>0</td>\n",
              "      <td>0</td>\n",
              "      <td>0</td>\n",
              "      <td>0</td>\n",
              "      <td>0</td>\n",
              "      <td>0</td>\n",
              "      <td>0</td>\n",
              "      <td>0</td>\n",
              "      <td>0</td>\n",
              "      <td>0</td>\n",
              "      <td>0</td>\n",
              "      <td>0</td>\n",
              "      <td>0</td>\n",
              "      <td>0</td>\n",
              "      <td>0</td>\n",
              "      <td>0</td>\n",
              "      <td>0</td>\n",
              "      <td>0</td>\n",
              "      <td>0</td>\n",
              "      <td>0</td>\n",
              "      <td>0</td>\n",
              "      <td>0</td>\n",
              "      <td>0</td>\n",
              "      <td>0</td>\n",
              "      <td>0</td>\n",
              "      <td>0</td>\n",
              "      <td>0</td>\n",
              "      <td>0</td>\n",
              "      <td>0</td>\n",
              "      <td>0</td>\n",
              "      <td>...</td>\n",
              "      <td>0</td>\n",
              "      <td>0</td>\n",
              "      <td>0</td>\n",
              "      <td>0</td>\n",
              "      <td>0</td>\n",
              "      <td>0</td>\n",
              "      <td>0</td>\n",
              "      <td>0</td>\n",
              "      <td>0</td>\n",
              "      <td>0</td>\n",
              "      <td>0</td>\n",
              "      <td>0</td>\n",
              "      <td>0</td>\n",
              "      <td>0</td>\n",
              "      <td>0</td>\n",
              "      <td>0</td>\n",
              "      <td>0</td>\n",
              "      <td>0</td>\n",
              "      <td>0</td>\n",
              "      <td>0</td>\n",
              "      <td>0</td>\n",
              "      <td>0</td>\n",
              "      <td>0</td>\n",
              "      <td>0</td>\n",
              "      <td>0</td>\n",
              "      <td>0</td>\n",
              "      <td>0</td>\n",
              "      <td>0</td>\n",
              "      <td>0</td>\n",
              "      <td>0</td>\n",
              "      <td>0</td>\n",
              "      <td>0</td>\n",
              "      <td>0</td>\n",
              "      <td>0</td>\n",
              "      <td>0</td>\n",
              "      <td>0</td>\n",
              "      <td>0</td>\n",
              "      <td>0</td>\n",
              "      <td>0</td>\n",
              "      <td>0</td>\n",
              "    </tr>\n",
              "  </tbody>\n",
              "</table>\n",
              "<p>3 rows × 105 columns</p>\n",
              "</div>"
            ],
            "text/plain": [
              "                                           Title  ... xcode\n",
              "1187         express delete work give find error  ...     0\n",
              "9274            dbcontext di desktop application  ...     0\n",
              "7944  inflate progressbar layout duplication api  ...     0\n",
              "\n",
              "[3 rows x 105 columns]"
            ]
          },
          "metadata": {
            "tags": []
          },
          "execution_count": 84
        }
      ]
    },
    {
      "cell_type": "markdown",
      "metadata": {
        "id": "k2ngVI3cDGY1"
      },
      "source": [
        "As we can see here, the dataframe **data_labels** combines the corpus texts along with **main_tags** encoded"
      ]
    },
    {
      "cell_type": "markdown",
      "metadata": {
        "id": "KjFVztw-Dgqm"
      },
      "source": [
        "Lets check the distribution of our tags, after we have performed the dimentionality reductionn "
      ]
    },
    {
      "cell_type": "code",
      "metadata": {
        "colab": {
          "base_uri": "https://localhost:8080/",
          "height": 402
        },
        "id": "n3g9brd70CgV",
        "outputId": "8cc11b01-f559-4988-ae95-e3b62fae3dad"
      },
      "source": [
        "data_labels['Tags_count']=data_labels['Tags'].apply(lambda x: len(str(x).split(' ')))\n",
        "tag_length=data_labels['Tags_count'].value_counts()\n",
        "plt.figure(figsize=(10,5))\n",
        "sns.barplot(tag_length.index,tag_length.values)\n",
        "plt.title(\"Distribution of the number of tags per question\")\n",
        "plt.xlabel(\"Number of Tags\")\n",
        "plt.ylabel(\"Number of questions\")\n",
        "plt.show()"
      ],
      "execution_count": null,
      "outputs": [
        {
          "output_type": "stream",
          "text": [
            "/usr/local/lib/python3.7/dist-packages/seaborn/_decorators.py:43: FutureWarning: Pass the following variables as keyword args: x, y. From version 0.12, the only valid positional argument will be `data`, and passing other arguments without an explicit keyword will result in an error or misinterpretation.\n",
            "  FutureWarning\n"
          ],
          "name": "stderr"
        },
        {
          "output_type": "display_data",
          "data": {
            "image/png": "[encoded data removed]",
            "text/plain": [
              "<Figure size 720x360 with 1 Axes>"
            ]
          },
          "metadata": {
            "tags": [],
            "needs_background": "light"
          }
        }
      ]
    },
    {
      "cell_type": "markdown",
      "metadata": {
        "id": "te9PZc93DrQe"
      },
      "source": [
        "- We can see that, although we have taken half of the tags, we did preserve the same distribution of our tags per question \n",
        "\n",
        "- Actually we did lose only 35 questions "
      ]
    },
    {
      "cell_type": "code",
      "metadata": {
        "id": "bdZnDtfPwnMw"
      },
      "source": [
        "X = data_labels['Title'].values\n",
        "y = data_labels.iloc[:,5:].values\n",
        "  \n",
        "# initializing TfidfVectorizer \n",
        "vectorizar = TfidfVectorizer(max_features=3000, max_df=0.85)\n",
        "# fitting the tf-idf on the given data\n",
        "vectorizar.fit(X)\n",
        "  \n",
        "# splitting the data to training and testing data set\n",
        "X_train, X_test, y_train, y_test = train_test_split(X, y, test_size=0.30, random_state=42)\n",
        "  \n",
        "# transforming the data\n",
        "X_train_tfidf = vectorizar.transform(X_train)\n",
        "X_test_tfidf = vectorizar.transform(X_test)"
      ],
      "execution_count": null,
      "outputs": []
    },
    {
      "cell_type": "code",
      "metadata": {
        "colab": {
          "base_uri": "https://localhost:8080/"
        },
        "id": "HJg13hiTfRXJ",
        "outputId": "a9b43972-9b93-4df7-9957-331ec5e1b972"
      },
      "source": [
        "print('shape of X_train_tfidf: {}'.format(X_train_tfidf.shape))\n",
        "print('\\n')\n",
        "print('shape of X_test_tfidf: {}'.format(X_test_tfidf.shape))\n",
        "print('\\n')\n",
        "print('shape of y_train: {}'.format(y_train.shape))\n",
        "print('\\n')\n",
        "print('shape of y_test: {}'.format(y_test.shape))"
      ],
      "execution_count": 116,
      "outputs": [
        {
          "output_type": "stream",
          "text": [
            "shape of X_train_tfidf: (6399, 3000)\n",
            "\n",
            "\n",
            "shape of X_test_tfidf: (2743, 3000)\n",
            "\n",
            "\n",
            "shape of y_train: (6399, 100)\n",
            "\n",
            "\n",
            "shape of y_test: (2743, 100)\n"
          ],
          "name": "stdout"
        }
      ]
    },
    {
      "cell_type": "markdown",
      "metadata": {
        "id": "xyDSpSd52TST"
      },
      "source": [
        "## **Problem transformation Method**"
      ]
    },
    {
      "cell_type": "markdown",
      "metadata": {
        "id": "lKr9stzKDp6t"
      },
      "source": [
        "In this section, we are going to deal with the problem transformation methods, the main idea is to convert our multi-label problem into single-label problem.\n",
        "\n",
        "This method can be carried out in three different ways as:\n",
        "\n",
        "- **Binary Relevance**\n",
        "\n",
        "- **Classifier Chains**\n",
        "\n",
        "- **Label Powerset**\n",
        "\n",
        "- **OneVsRestClassifier**"
      ]
    },
    {
      "cell_type": "markdown",
      "metadata": {
        "id": "PexTlsRf2b0t"
      },
      "source": [
        "### Binary relevance"
      ]
    },
    {
      "cell_type": "markdown",
      "metadata": {
        "id": "dby_6iAQEiHt"
      },
      "source": [
        "- This is one of the simplest technique. The idea behind this algorithm, is to treat each single label separatly and consider it as a single class classification problem.\n",
        "\n",
        "- In **binary relevance**, this problem is broken into N different single class classification problems. the multi-learn library provides this implementation in python."
      ]
    },
    {
      "cell_type": "markdown",
      "metadata": {
        "id": "f_7bONVlY9pf"
      },
      "source": [
        "#### Gaussian NB"
      ]
    },
    {
      "cell_type": "code",
      "metadata": {
        "id": "-THIjgGw2uL4"
      },
      "source": [
        "binary_classifier=BinaryRelevance(GaussianNB())"
      ],
      "execution_count": null,
      "outputs": []
    },
    {
      "cell_type": "code",
      "metadata": {
        "colab": {
          "base_uri": "https://localhost:8080/"
        },
        "id": "7PYSbFQy20b3",
        "outputId": "4dc58986-128c-4453-d592-da946552dbdc"
      },
      "source": [
        "binary_classifier.fit(X_train_tfidf,y_train)"
      ],
      "execution_count": null,
      "outputs": [
        {
          "output_type": "execute_result",
          "data": {
            "text/plain": [
              "BinaryRelevance(classifier=GaussianNB(priors=None, var_smoothing=1e-09),\n",
              "                require_dense=[True, True])"
            ]
          },
          "metadata": {
            "tags": []
          },
          "execution_count": 88
        }
      ]
    },
    {
      "cell_type": "code",
      "metadata": {
        "id": "rOUE2EYO3HaY"
      },
      "source": [
        "pred_binary = binary_classifier.predict(X_test_tfidf)"
      ],
      "execution_count": null,
      "outputs": []
    },
    {
      "cell_type": "code",
      "metadata": {
        "colab": {
          "base_uri": "https://localhost:8080/"
        },
        "id": "cST26Z693O4s",
        "outputId": "17d65886-9604-46ef-8078-5bacc0bf369f"
      },
      "source": [
        "accuracy_score(y_test,pred_binary)"
      ],
      "execution_count": null,
      "outputs": [
        {
          "output_type": "execute_result",
          "data": {
            "text/plain": [
              "0.04187192118226601"
            ]
          },
          "metadata": {
            "tags": []
          },
          "execution_count": 14
        }
      ]
    },
    {
      "cell_type": "code",
      "metadata": {
        "colab": {
          "base_uri": "https://localhost:8080/"
        },
        "id": "9Wh7cpfpL8cQ",
        "outputId": "07acd6a1-40c3-462e-ea85-312d0ab55ed5"
      },
      "source": [
        "hamming_loss(y_test,pred_binary)"
      ],
      "execution_count": null,
      "outputs": [
        {
          "output_type": "execute_result",
          "data": {
            "text/plain": [
              "0.026372184638887613"
            ]
          },
          "metadata": {
            "tags": []
          },
          "execution_count": 15
        }
      ]
    },
    {
      "cell_type": "markdown",
      "metadata": {
        "id": "TivA5yG9ZBAX"
      },
      "source": [
        "#### Logistic Regression"
      ]
    },
    {
      "cell_type": "code",
      "metadata": {
        "id": "e1gI97bk1X25"
      },
      "source": [
        "binary_clf_log=BinaryRelevance(LogisticRegression())\n",
        "binary_clf_log.fit(X_train_tfidf,y_train)\n",
        "pred_log = binary_clf_log.predict(X_test_tfidf)"
      ],
      "execution_count": null,
      "outputs": []
    },
    {
      "cell_type": "code",
      "metadata": {
        "colab": {
          "base_uri": "https://localhost:8080/"
        },
        "id": "LFrfZw7Y2V_1",
        "outputId": "49488a8e-e7ba-461b-8071-ff1e8177be46"
      },
      "source": [
        "print(accuracy_score(y_test, pred_log))\n",
        "print(hamming_loss(y_test, pred_log))"
      ],
      "execution_count": null,
      "outputs": [
        {
          "output_type": "stream",
          "text": [
            "0.0844475721323012\n",
            "0.01036498467000732\n"
          ],
          "name": "stdout"
        }
      ]
    },
    {
      "cell_type": "markdown",
      "metadata": {
        "id": "fS1ikmkSZEjw"
      },
      "source": [
        "#### Random Forest "
      ]
    },
    {
      "cell_type": "code",
      "metadata": {
        "id": "3pN04NNj4MU_",
        "colab": {
          "base_uri": "https://localhost:8080/"
        },
        "outputId": "d78f29c0-7331-4b0e-db5e-5f94bd311424"
      },
      "source": [
        "binary_clf_rand=BinaryRelevance(RandomForestClassifier())\n",
        "binary_clf_rand.fit(X_train_tfidf,y_train)\n",
        "pred_forest = binary_clf_rand.predict(X_test_tfidf)"
      ],
      "execution_count": 117,
      "outputs": [
        {
          "output_type": "execute_result",
          "data": {
            "text/plain": [
              "BinaryRelevance(classifier=RandomForestClassifier(bootstrap=True, ccp_alpha=0.0,\n",
              "                                                  class_weight=None,\n",
              "                                                  criterion='gini',\n",
              "                                                  max_depth=None,\n",
              "                                                  max_features='auto',\n",
              "                                                  max_leaf_nodes=None,\n",
              "                                                  max_samples=None,\n",
              "                                                  min_impurity_decrease=0.0,\n",
              "                                                  min_impurity_split=None,\n",
              "                                                  min_samples_leaf=1,\n",
              "                                                  min_samples_split=2,\n",
              "                                                  min_weight_fraction_leaf=0.0,\n",
              "                                                  n_estimators=100, n_jobs=None,\n",
              "                                                  oob_score=False,\n",
              "                                                  random_state=None, verbose=0,\n",
              "                                                  warm_start=False),\n",
              "                require_dense=[True, True])"
            ]
          },
          "metadata": {
            "tags": []
          },
          "execution_count": 117
        }
      ]
    },
    {
      "cell_type": "code",
      "metadata": {
        "id": "_jtze1FV4wwh",
        "colab": {
          "base_uri": "https://localhost:8080/"
        },
        "outputId": "e10fcebe-4127-41c3-a48e-c70af7deca3c"
      },
      "source": [
        "print(accuracy_score(y_test, pred_forest))\n",
        "print(hamming_loss(y_test, pred_forest))"
      ],
      "execution_count": null,
      "outputs": [
        {
          "output_type": "stream",
          "text": [
            "0.15517241379310345\n",
            "0.008948684308240711\n"
          ],
          "name": "stdout"
        }
      ]
    },
    {
      "cell_type": "markdown",
      "metadata": {
        "id": "DnOnuni7ZHg9"
      },
      "source": [
        "#### XGBoost Classifier"
      ]
    },
    {
      "cell_type": "code",
      "metadata": {
        "id": "pC0Wconwpp8h"
      },
      "source": [
        "binary_clf_boost=BinaryRelevance(XGBClassifier())\n",
        "binary_clf_boost.fit(X_train_tfidf,y_train)\n",
        "pred_boost = binary_clf_boost.predict(X_test_tfidf)\n",
        "print(accuracy_score(y_test, pred_boost))\n",
        "print(hamming_loss(y_test, pred_boost))"
      ],
      "execution_count": null,
      "outputs": []
    },
    {
      "cell_type": "markdown",
      "metadata": {
        "id": "klVPB3js3mYY"
      },
      "source": [
        "### Classifier chains"
      ]
    },
    {
      "cell_type": "markdown",
      "metadata": {
        "id": "GW-1ou3bHFNL"
      },
      "source": [
        "- For this part, the first classifier is trained just on the input data and then each next classifier is trained on the input space and all the previous classifiers \n",
        "\n",
        "- In the chain.  This is quite similar to binary relevance, the only difference being it forms chains in order to preserve label correlation"
      ]
    },
    {
      "cell_type": "markdown",
      "metadata": {
        "id": "TTo9bYpZbTj5"
      },
      "source": [
        "#### Gauussian Naives Bayes\n",
        "\n"
      ]
    },
    {
      "cell_type": "code",
      "metadata": {
        "id": "7xSjc0Ve3y_0"
      },
      "source": [
        "classifier_chain=ClassifierChain(GaussianNB())"
      ],
      "execution_count": null,
      "outputs": []
    },
    {
      "cell_type": "code",
      "metadata": {
        "colab": {
          "base_uri": "https://localhost:8080/"
        },
        "id": "9hzG8zD433h2",
        "outputId": "7374cec8-51d6-48ba-b78e-1e83839b3cb1"
      },
      "source": [
        "classifier_chain.fit(X_train_tfidf,y_train)"
      ],
      "execution_count": null,
      "outputs": [
        {
          "output_type": "execute_result",
          "data": {
            "text/plain": [
              "ClassifierChain(classifier=GaussianNB(priors=None, var_smoothing=1e-09),\n",
              "                order=None, require_dense=[True, True])"
            ]
          },
          "metadata": {
            "tags": []
          },
          "execution_count": 292
        }
      ]
    },
    {
      "cell_type": "code",
      "metadata": {
        "id": "dpe1zKYF38TJ"
      },
      "source": [
        "pred_chain = classifier_chain.predict(X_test_tfidf)"
      ],
      "execution_count": null,
      "outputs": []
    },
    {
      "cell_type": "code",
      "metadata": {
        "colab": {
          "base_uri": "https://localhost:8080/"
        },
        "id": "Ltk9ieOu4P-y",
        "outputId": "69bbe43a-e10f-46f5-9197-2f5ce1748717"
      },
      "source": [
        "hamming_loss(y_test,pred_chain)"
      ],
      "execution_count": null,
      "outputs": [
        {
          "output_type": "execute_result",
          "data": {
            "text/plain": [
              "0.028363897878460984"
            ]
          },
          "metadata": {
            "tags": []
          },
          "execution_count": 294
        }
      ]
    },
    {
      "cell_type": "code",
      "metadata": {
        "colab": {
          "base_uri": "https://localhost:8080/"
        },
        "id": "9ndBOnfT4OSi",
        "outputId": "93656d13-2694-457d-d870-61ee20f19c55"
      },
      "source": [
        "accuracy_score(y_test,pred_chain)"
      ],
      "execution_count": null,
      "outputs": [
        {
          "output_type": "execute_result",
          "data": {
            "text/plain": [
              "0.07047824523552679"
            ]
          },
          "metadata": {
            "tags": []
          },
          "execution_count": 295
        }
      ]
    },
    {
      "cell_type": "markdown",
      "metadata": {
        "id": "mDblaBXUbbJV"
      },
      "source": [
        "#### Logistic Regression"
      ]
    },
    {
      "cell_type": "code",
      "metadata": {
        "id": "DyLaFd3Jbi9k"
      },
      "source": [
        "clf_chain_log=ClassifierChain(LogisticRegression())\n",
        "clf_chain_log.fit(X_train_tfidf,y_train)\n",
        "pred_chain_log = clf_chain_log.predict(X_test_tfidf)\n",
        "hamming_loss(y_test,pred_chain_log)\n",
        "accuracy_score(y_test,pred_chain_log)\n"
      ],
      "execution_count": null,
      "outputs": []
    },
    {
      "cell_type": "markdown",
      "metadata": {
        "id": "qPzSlyL9_NqB"
      },
      "source": [
        "#### Random Forest"
      ]
    },
    {
      "cell_type": "code",
      "metadata": {
        "id": "pYlJOqkd_LiK"
      },
      "source": [
        "clf_chain_rand=ClassifierChain(RandomForestClassifier())\n",
        "clf_chain_rand.fit(X_train_tfidf,y_train)\n",
        "pred_forest_chain = clf_chain_rand.predict(X_test_tfidf)\n",
        "print(accuracy_score(y_test, pred_forest_chain))\n",
        "print(hamming_loss(y_test, pred_forest_chain))"
      ],
      "execution_count": null,
      "outputs": []
    },
    {
      "cell_type": "markdown",
      "metadata": {
        "id": "jaG4Rw8zDUQ-"
      },
      "source": [
        "#### XGBoost"
      ]
    },
    {
      "cell_type": "code",
      "metadata": {
        "id": "OmMcB0FzDTcf"
      },
      "source": [
        "clf_chain_boost=ClassifierChain(XGBClassifier())\n",
        "clf_chain_boost.fit(X_train_tfidf,y_train)\n",
        "pred_boost_chain = clf_chain_boost.predict(X_test_tfidf)\n",
        "print(accuracy_score(y_test, pred_boost_chain))\n",
        "print(hamming_loss(y_test, pred_boost_chain))"
      ],
      "execution_count": null,
      "outputs": []
    },
    {
      "cell_type": "markdown",
      "metadata": {
        "id": "o1hSOedL4YHo"
      },
      "source": [
        "###Label Powerset"
      ]
    },
    {
      "cell_type": "markdown",
      "metadata": {
        "id": "be22Zr_KIQcS"
      },
      "source": [
        "- In this, we transform the problem into a multi-class problem with one multi-class classifier is trained on all unique label combinations found in the training data.\n",
        "\n",
        "- So, label powerset has given a unique class to every possible label combination that is present in the training set."
      ]
    },
    {
      "cell_type": "code",
      "metadata": {
        "colab": {
          "base_uri": "https://localhost:8080/"
        },
        "id": "oSicWJIMH8WE",
        "outputId": "808d5877-8678-4c85-ef35-aa154e906031"
      },
      "source": [
        "classifier_label=LabelPowerset(GaussianNB())\n",
        "classifier_label.fit(X_train_tfidf,y_train)\n",
        "pred_label = classifier_label.predict(X_test_tfidf)\n",
        "print(hamming_loss(y_test,pred_label))\n",
        "print('\\n')\n",
        "print(accuracy_score(y_test,pred_label))"
      ],
      "execution_count": null,
      "outputs": [
        {
          "output_type": "stream",
          "text": [
            "0.023728874505573535\n",
            "\n",
            "\n",
            "0.14922689679971232\n"
          ],
          "name": "stdout"
        }
      ]
    },
    {
      "cell_type": "code",
      "metadata": {
        "colab": {
          "base_uri": "https://localhost:8080/"
        },
        "id": "fsVtCd4fax1e",
        "outputId": "3f194344-0a2b-4f21-ad80-35d7eb0dcbf8"
      },
      "source": [
        "classifier_label=LabelPowerset(LogisticRegression())\n",
        "classifier_label.fit(X_train_tfidf,y_train)\n",
        "pred_label = classifier_label.predict(X_test_tfidf)\n",
        "print(hamming_loss(y_test,pred_label))\n",
        "print('\\n')\n",
        "print(accuracy_score(y_test,pred_label))"
      ],
      "execution_count": null,
      "outputs": [
        {
          "output_type": "stream",
          "text": [
            "0.012391302041523593\n",
            "\n",
            "\n",
            "0.14567206192821958\n"
          ],
          "name": "stdout"
        }
      ]
    },
    {
      "cell_type": "code",
      "metadata": {
        "id": "Zb-y0lhPaUGC"
      },
      "source": [
        "clf_label_forest=LabelPowerset(RandomForestClassifier())\n",
        "clf_label_forest.fit(X_train_tfidf,y_train)\n",
        "pred_label_forest = clf_label_forest.predict(X_test_tfidf)\n",
        "print(hamming_loss(y_test,pred_label_forest))\n",
        "print('\\n')\n",
        "print(accuracy_score(y_test,pred_label_forest))"
      ],
      "execution_count": null,
      "outputs": []
    },
    {
      "cell_type": "code",
      "metadata": {
        "colab": {
          "base_uri": "https://localhost:8080/"
        },
        "id": "9b88OXDDaKB_",
        "outputId": "7ca1dd49-b310-4d4d-8768-b3ef6d6e7cf3"
      },
      "source": [
        "clf_label_boost=LabelPowerset(XGBClassifier())\n",
        "clf_label_boost.fit(X_train_tfidf,y_train)\n",
        "pred_boost_label = clf_label_boost.predict(X_test_tfidf)\n",
        "print(accuracy_score(y_test, pred_boost_label))\n",
        "print(hamming_loss(y_test, pred_boost_label))"
      ],
      "execution_count": null,
      "outputs": [
        {
          "output_type": "stream",
          "text": [
            "0.13230119634060522\n",
            "0.012912910788990695\n"
          ],
          "name": "stdout"
        }
      ]
    },
    {
      "cell_type": "markdown",
      "metadata": {
        "id": "ZTwBcWgtoVdp"
      },
      "source": [
        "## OneVsRestClassifier"
      ]
    },
    {
      "cell_type": "markdown",
      "metadata": {
        "id": "9tL1O7WgEWWI"
      },
      "source": [
        "- OneVsRestClassifier is similar to the binary relevance Method\n",
        "\n",
        "- It give us the ability to work with the GridSearch Methods and to optimise parameters via a hyper-parameter tuning"
      ]
    },
    {
      "cell_type": "code",
      "metadata": {
        "id": "Bz_gZpPBb16u"
      },
      "source": [
        "pipeline = Pipeline([\n",
        "    ('tfidf', TfidfVectorizer(max_features=3000, max_df=0.85,stop_words='english')),\n",
        "    ('clf', OneVsRestClassifier(LogisticRegression()))])\n",
        "parameters = {\n",
        "    \"clf__estimator__C\": [0.01, 0.1, 1],\n",
        "    \"clf__estimator__penalty\":['l1','l2']\n",
        "\n",
        "}\n"
      ],
      "execution_count": null,
      "outputs": []
    },
    {
      "cell_type": "markdown",
      "metadata": {
        "id": "lhZ_d1yDE85M"
      },
      "source": [
        "### Multinomial Naives Bayes"
      ]
    },
    {
      "cell_type": "code",
      "metadata": {
        "id": "b1FhU7UAxql5"
      },
      "source": [
        "pipeline = Pipeline([\n",
        "    ('tfidf', TfidfVectorizer(max_features=3000, max_df=0.85,stop_words='english')),\n",
        "    ('clf', OneVsRestClassifier(MultinomialNB(\n",
        "        fit_prior=True, class_prior=None))),\n",
        "])\n",
        "parameters = {\n",
        "    'tfidf__max_df': (0.25, 0.5, 0.75),\n",
        "    'tfidf__ngram_range': [(1, 1), (1, 2), (1, 3)],\n",
        "    'clf__estimator__alpha': (1e-2, 1e-3)\n",
        "}"
      ],
      "execution_count": null,
      "outputs": []
    },
    {
      "cell_type": "code",
      "metadata": {
        "colab": {
          "base_uri": "https://localhost:8080/"
        },
        "id": "jzGED6EVx7AL",
        "outputId": "b203ee92-5b5e-45ed-dd29-c6eec571c284"
      },
      "source": [
        "grid_search_tune = GridSearchCV(\n",
        "    pipeline, parameters, cv=2, n_jobs=2, verbose=3)\n",
        "grid_search_tune.fit(X_train, y_train)"
      ],
      "execution_count": null,
      "outputs": [
        {
          "output_type": "stream",
          "text": [
            "Fitting 2 folds for each of 18 candidates, totalling 36 fits\n"
          ],
          "name": "stdout"
        },
        {
          "output_type": "stream",
          "text": [
            "[Parallel(n_jobs=2)]: Using backend LokyBackend with 2 concurrent workers.\n",
            "[Parallel(n_jobs=2)]: Done  28 tasks      | elapsed:   18.6s\n",
            "[Parallel(n_jobs=2)]: Done  36 out of  36 | elapsed:   23.7s finished\n"
          ],
          "name": "stderr"
        },
        {
          "output_type": "execute_result",
          "data": {
            "text/plain": [
              "GridSearchCV(cv=2, error_score=nan,\n",
              "             estimator=Pipeline(memory=None,\n",
              "                                steps=[('tfidf',\n",
              "                                        TfidfVectorizer(analyzer='word',\n",
              "                                                        binary=False,\n",
              "                                                        decode_error='strict',\n",
              "                                                        dtype=<class 'numpy.float64'>,\n",
              "                                                        encoding='utf-8',\n",
              "                                                        input='content',\n",
              "                                                        lowercase=True,\n",
              "                                                        max_df=0.85,\n",
              "                                                        max_features=3000,\n",
              "                                                        min_df=1,\n",
              "                                                        ngram_range=(1, 1),\n",
              "                                                        norm='l2',\n",
              "                                                        preprocessor=None,\n",
              "                                                        smooth_idf=True,\n",
              "                                                        stop_words='english',\n",
              "                                                        str...\n",
              "                                       ('clf',\n",
              "                                        OneVsRestClassifier(estimator=MultinomialNB(alpha=1.0,\n",
              "                                                                                    class_prior=None,\n",
              "                                                                                    fit_prior=True),\n",
              "                                                            n_jobs=None))],\n",
              "                                verbose=False),\n",
              "             iid='deprecated', n_jobs=2,\n",
              "             param_grid={'clf__estimator__alpha': (0.01, 0.001),\n",
              "                         'tfidf__max_df': (0.25, 0.5, 0.75),\n",
              "                         'tfidf__ngram_range': [(1, 1), (1, 2), (1, 3)]},\n",
              "             pre_dispatch='2*n_jobs', refit=True, return_train_score=False,\n",
              "             scoring=None, verbose=3)"
            ]
          },
          "metadata": {
            "tags": []
          },
          "execution_count": 47
        }
      ]
    },
    {
      "cell_type": "code",
      "metadata": {
        "colab": {
          "base_uri": "https://localhost:8080/"
        },
        "id": "iNbV9dzL0TSn",
        "outputId": "64935a74-92f6-4203-e28b-5f40622c092a"
      },
      "source": [
        "print(\"Best estimator: \",grid_search_tune.best_estimator_)\n",
        "print(\"Best Cross Validation Score: \",grid_search_tune.best_score_)"
      ],
      "execution_count": null,
      "outputs": [
        {
          "output_type": "stream",
          "text": [
            "Best estimator:  Pipeline(memory=None,\n",
            "         steps=[('tfidf',\n",
            "                 TfidfVectorizer(analyzer='word', binary=False,\n",
            "                                 decode_error='strict',\n",
            "                                 dtype=<class 'numpy.float64'>,\n",
            "                                 encoding='utf-8', input='content',\n",
            "                                 lowercase=True, max_df=0.25, max_features=3000,\n",
            "                                 min_df=1, ngram_range=(1, 2), norm='l2',\n",
            "                                 preprocessor=None, smooth_idf=True,\n",
            "                                 stop_words='english', strip_accents=None,\n",
            "                                 sublinear_tf=False,\n",
            "                                 token_pattern='(?u)\\\\b\\\\w\\\\w+\\\\b',\n",
            "                                 tokenizer=None, use_idf=True,\n",
            "                                 vocabulary=None)),\n",
            "                ('clf',\n",
            "                 OneVsRestClassifier(estimator=MultinomialNB(alpha=0.01,\n",
            "                                                             class_prior=None,\n",
            "                                                             fit_prior=True),\n",
            "                                     n_jobs=None))],\n",
            "         verbose=False)\n",
            "Best Cross Validation Score:  0.10933519459560756\n"
          ],
          "name": "stdout"
        }
      ]
    },
    {
      "cell_type": "markdown",
      "metadata": {
        "id": "qQeuFdIJE3SI"
      },
      "source": [
        "### XGBoost"
      ]
    },
    {
      "cell_type": "code",
      "metadata": {
        "colab": {
          "base_uri": "https://localhost:8080/"
        },
        "id": "uyw2hmAT-n-k",
        "outputId": "ab6577c6-6401-42e8-ca95-28484ceacb2a"
      },
      "source": [
        "params = {'estimator__learning_rate' :[0.01, 0.1, 0.2],\n",
        "          'estimator__n_estimators':[10,100,500],\n",
        "          'estimator__subsample':(0.2,0.6,0.8),\n",
        "          'estimator__max_depth':np.arange(1,6),\n",
        "          'estimator__min_child_weight':np.arange(1,6)}\n",
        "base_estimator = OneVsRestClassifier(XGBClassifier(), n_jobs=-1)\n",
        "rsearch_cv = RandomizedSearchCV(estimator=base_estimator, param_distributions=params, n_iter=10, cv=2, scoring='f1_micro', n_jobs=-1, verbose=1)\n",
        "rsearch_cv.fit(X_train_tfidf, y_train)"
      ],
      "execution_count": null,
      "outputs": [
        {
          "output_type": "stream",
          "text": [
            "Fitting 2 folds for each of 10 candidates, totalling 20 fits\n"
          ],
          "name": "stdout"
        },
        {
          "output_type": "stream",
          "text": [
            "[Parallel(n_jobs=-1)]: Using backend LokyBackend with 2 concurrent workers.\n",
            "[Parallel(n_jobs=-1)]: Done  20 out of  20 | elapsed: 13.4min finished\n"
          ],
          "name": "stderr"
        },
        {
          "output_type": "execute_result",
          "data": {
            "text/plain": [
              "RandomizedSearchCV(cv=2, error_score=nan,\n",
              "                   estimator=OneVsRestClassifier(estimator=XGBClassifier(base_score=0.5,\n",
              "                                                                         booster='gbtree',\n",
              "                                                                         colsample_bylevel=1,\n",
              "                                                                         colsample_bynode=1,\n",
              "                                                                         colsample_bytree=1,\n",
              "                                                                         gamma=0,\n",
              "                                                                         learning_rate=0.1,\n",
              "                                                                         max_delta_step=0,\n",
              "                                                                         max_depth=3,\n",
              "                                                                         min_child_weight=1,\n",
              "                                                                         missing=None,\n",
              "                                                                         n_estimators=100,\n",
              "                                                                         n_jobs=1,\n",
              "                                                                         nthread=None,\n",
              "                                                                         objective='binary:logistic',\n",
              "                                                                         random_state...\n",
              "                   iid='deprecated', n_iter=10, n_jobs=-1,\n",
              "                   param_distributions={'estimator__learning_rate': [0.01, 0.1,\n",
              "                                                                     0.2],\n",
              "                                        'estimator__max_depth': array([1, 2, 3, 4, 5]),\n",
              "                                        'estimator__min_child_weight': array([1, 2, 3, 4, 5]),\n",
              "                                        'estimator__n_estimators': [10, 100,\n",
              "                                                                    500],\n",
              "                                        'estimator__subsample': (0.2, 0.6,\n",
              "                                                                 0.8)},\n",
              "                   pre_dispatch='2*n_jobs', random_state=None, refit=True,\n",
              "                   return_train_score=False, scoring='f1_micro', verbose=1)"
            ]
          },
          "metadata": {
            "tags": []
          },
          "execution_count": 18
        }
      ]
    },
    {
      "cell_type": "code",
      "metadata": {
        "colab": {
          "base_uri": "https://localhost:8080/"
        },
        "id": "VDB6SCOvUQrq",
        "outputId": "d7c9386f-9b35-431d-92c6-47b3d5dfb583"
      },
      "source": [
        "boost_best=OneVsRestClassifier(estimator=XGBClassifier(base_score=0.5,\n",
        "                                                                         booster='gbtree',\n",
        "                                                                         colsample_bylevel=1,\n",
        "                                                                         colsample_bynode=1,\n",
        "                                                                         colsample_bytree=1,\n",
        "                                                                         gamma=0,\n",
        "                                                                         learning_rate=0.1,\n",
        "                                                                         max_delta_step=0,\n",
        "                                                                         max_depth=3,\n",
        "                                                                         min_child_weight=1,\n",
        "                                                                         missing=None,\n",
        "                                                                         n_estimators=100,\n",
        "                                                                         n_jobs=1,\n",
        "                                                                         nthread=None,\n",
        "                                                                         objective='binary:logistic',\n",
        "                                                                         random_state=101))\n",
        "boost_best.fit(X_train_tfidf, y_train)"
      ],
      "execution_count": 118,
      "outputs": [
        {
          "output_type": "execute_result",
          "data": {
            "text/plain": [
              "OneVsRestClassifier(estimator=XGBClassifier(base_score=0.5, booster='gbtree',\n",
              "                                            colsample_bylevel=1,\n",
              "                                            colsample_bynode=1,\n",
              "                                            colsample_bytree=1, gamma=0,\n",
              "                                            learning_rate=0.1, max_delta_step=0,\n",
              "                                            max_depth=3, min_child_weight=1,\n",
              "                                            missing=None, n_estimators=100,\n",
              "                                            n_jobs=1, nthread=None,\n",
              "                                            objective='binary:logistic',\n",
              "                                            random_state=101, reg_alpha=0,\n",
              "                                            reg_lambda=1, scale_pos_weight=1,\n",
              "                                            seed=None, silent=None, subsample=1,\n",
              "                                            verbosity=1),\n",
              "                    n_jobs=None)"
            ]
          },
          "metadata": {
            "tags": []
          },
          "execution_count": 118
        }
      ]
    },
    {
      "cell_type": "code",
      "metadata": {
        "colab": {
          "base_uri": "https://localhost:8080/"
        },
        "id": "fc_LK-v8_PGj",
        "outputId": "2fe615da-8a30-48c0-ada8-75ea0d3c072f"
      },
      "source": [
        "boost_best=OneVsRestClassifier(estimator=XGBClassifier(base_score=0.5,\n",
        "                                                                         booster='gbtree',\n",
        "                                                                         colsample_bylevel=1,\n",
        "                                                                         colsample_bynode=1,\n",
        "                                                                         colsample_bytree=1,\n",
        "                                                                         gamma=0,\n",
        "                                                                         learning_rate=0.1,\n",
        "                                                                         max_delta_step=0,\n",
        "                                                                         max_depth=3,\n",
        "                                                                         min_child_weight=1,\n",
        "                                                                         missing=None,\n",
        "                                                                         n_estimators=100,\n",
        "                                                                         n_jobs=1,\n",
        "                                                                         nthread=None,\n",
        "                                                                         objective='binary:logistic',\n",
        "                                                                         random_state=101))\n",
        "boost_best.fit(X_train_tfidf, y_train)\n",
        "pred_boost_best = boost_best.predict(X_test_tfidf)\n",
        "print(hamming_loss(y_test,pred_boost_best))\n",
        "print('\\n')\n",
        "print(accuracy_score(y_test,pred_boost_best))"
      ],
      "execution_count": null,
      "outputs": [
        {
          "output_type": "stream",
          "text": [
            "0.008840826228255988\n",
            "\n",
            "\n",
            "0.1688951442646024\n"
          ],
          "name": "stdout"
        }
      ]
    },
    {
      "cell_type": "markdown",
      "metadata": {
        "id": "BYqxReM09ehz"
      },
      "source": [
        "###Random forest"
      ]
    },
    {
      "cell_type": "code",
      "metadata": {
        "id": "Px966mVc9GlC"
      },
      "source": [
        "params = {'estimator__n_estimators': [10,100,250,500],\n",
        "          'estimator__min_weight_fraction_leaf': [0,0.25,0.5],\n",
        "          'estimator__max_depth': np.arange(1,6),\n",
        "          'estimator__min_samples_leaf': np.arange(0.05,0.5,0.05),\n",
        "          'estimator__min_samples_split':np.arange(0.05,1.0,0.05)}"
      ],
      "execution_count": null,
      "outputs": []
    },
    {
      "cell_type": "code",
      "metadata": {
        "colab": {
          "base_uri": "https://localhost:8080/"
        },
        "id": "dVcFhKLx9wKO",
        "outputId": "8de678f0-8434-4b3b-bcd0-5d708612ac92"
      },
      "source": [
        "base_estimator=OneVsRestClassifier(RandomForestClassifier(criterion='gini', class_weight='balanced'), n_jobs=-1)\n",
        "rsearch_cv = RandomizedSearchCV(estimator=base_estimator, param_distributions=params, n_iter=15, cv=5, scoring='f1_micro', n_jobs=-1, verbose=1)\n",
        "rsearch_cv.fit(X_train_tfidf, y_train)\n",
        "print(\"Best estimator: \",rsearch_cv.best_estimator_)\n",
        "print(\"Best Cross Validation Score: \",rsearch_cv.best_score_)"
      ],
      "execution_count": null,
      "outputs": [
        {
          "output_type": "stream",
          "text": [
            "Fitting 5 folds for each of 15 candidates, totalling 75 fits\n"
          ],
          "name": "stdout"
        },
        {
          "output_type": "stream",
          "text": [
            "[Parallel(n_jobs=-1)]: Using backend LokyBackend with 2 concurrent workers.\n",
            "[Parallel(n_jobs=-1)]: Done  46 tasks      | elapsed: 32.3min\n",
            "[Parallel(n_jobs=-1)]: Done  75 out of  75 | elapsed: 65.6min finished\n"
          ],
          "name": "stderr"
        },
        {
          "output_type": "stream",
          "text": [
            "Best estimator:  OneVsRestClassifier(estimator=RandomForestClassifier(bootstrap=True,\n",
            "                                                     ccp_alpha=0.0,\n",
            "                                                     class_weight='balanced',\n",
            "                                                     criterion='gini',\n",
            "                                                     max_depth=5,\n",
            "                                                     max_features='auto',\n",
            "                                                     max_leaf_nodes=None,\n",
            "                                                     max_samples=None,\n",
            "                                                     min_impurity_decrease=0.0,\n",
            "                                                     min_impurity_split=None,\n",
            "                                                     min_samples_leaf=0.25,\n",
            "                                                     min_samples_split=0.4,\n",
            "                                                     min_weight_fraction_leaf=0.5,\n",
            "                                                     n_estimators=250,\n",
            "                                                     n_jobs=None,\n",
            "                                                     oob_score=False,\n",
            "                                                     random_state=None,\n",
            "                                                     verbose=0,\n",
            "                                                     warm_start=False),\n",
            "                    n_jobs=-1)\n",
            "Best Cross Validation Score:  0.047926567171496834\n"
          ],
          "name": "stdout"
        }
      ]
    },
    {
      "cell_type": "code",
      "metadata": {
        "colab": {
          "base_uri": "https://localhost:8080/"
        },
        "id": "cpl2292wAF8d",
        "outputId": "0307f0aa-1320-4763-e22f-4c619bfdfa52"
      },
      "source": [
        "boost_best=OneVsRestClassifier(estimator=RandomForestClassifier(bootstrap=True,\n",
        "                                                     ccp_alpha=0.0,\n",
        "                                                     class_weight='balanced',\n",
        "                                                     criterion='gini',\n",
        "                                                     max_depth=5,\n",
        "                                                     max_features='auto',\n",
        "                                                     max_leaf_nodes=None,\n",
        "                                                     max_samples=None,\n",
        "                                                     min_impurity_decrease=0.0,\n",
        "                                                     min_impurity_split=None,\n",
        "                                                     min_samples_leaf=0.25,\n",
        "                                                     min_samples_split=0.4,\n",
        "                                                     min_weight_fraction_leaf=0.5,\n",
        "                                                     n_estimators=250,\n",
        "                                                     n_jobs=None,\n",
        "                                                     oob_score=False,\n",
        "                                                     random_state=None,\n",
        "                                                     verbose=0,\n",
        "                                                     warm_start=False))\n",
        "boost_best.fit(X_train_tfidf,y_train)\n",
        "pred_boost_best = boost_best.predict(X_test_tfidf)\n",
        "print(hamming_loss(y_test,pred_boost_best))\n",
        "print('\\n')\n",
        "print(accuracy_score(y_test,pred_boost_best))"
      ],
      "execution_count": null,
      "outputs": [
        {
          "output_type": "stream",
          "text": [
            "0.174959951057186\n",
            "\n",
            "\n",
            "0.0\n"
          ],
          "name": "stdout"
        }
      ]
    },
    {
      "cell_type": "markdown",
      "metadata": {
        "id": "CIA_HP3JFCvv"
      },
      "source": [
        "### Logistic Regression"
      ]
    },
    {
      "cell_type": "code",
      "metadata": {
        "id": "ThKFtU-sad8o"
      },
      "source": [
        "alpha = [0.0001,0.01,0.1,1,10,100]\n",
        "penalty=['l1','l2']\n",
        "params  = {\"estimator__C\":alpha,\n",
        "           \"estimator__penalty\":penalty}\n",
        "base_estimator = OneVsRestClassifier(LogisticRegression())\n",
        "rand_cv = RandomizedSearchCV(estimator=base_estimator, param_distributions=params,n_iter=10, cv=5, scoring='f1_micro', n_jobs=-1, verbose=1)\n",
        "rand_cv.fit(X_train_tfidf, y_train)\n",
        "print(\"Best estimator: \",rand_cv.best_estimator_)\n",
        "print(\"Best Cross Validation Score: \",rand_cv.best_score_)"
      ],
      "execution_count": null,
      "outputs": []
    },
    {
      "cell_type": "code",
      "metadata": {
        "id": "Y2KBqIgVwfOz"
      },
      "source": [
        "boost_best=OneVsRestClassifier(estimator=LogisticRegression(C=100, class_weight=None,\n",
        "                                                 dual=False, fit_intercept=True,\n",
        "                                                 intercept_scaling=1,\n",
        "                                                 l1_ratio=None, max_iter=100,\n",
        "                                                 multi_class='auto',\n",
        "                                                 n_jobs=None, penalty='l2',\n",
        "                                                 random_state=None,\n",
        "                                                 solver='lbfgs', tol=0.0001,\n",
        "                                                 verbose=0, warm_start=False))\n",
        "boost_best.fit(X_train_tfidf,y_train)\n",
        "pred_boost_best = boost_best.predict(X_test_tfidf)\n",
        "print(hamming_loss(y_test,pred_boost_best))\n",
        "print('\\n')\n",
        "print(accuracy_score(y_test,pred_boost_best))"
      ],
      "execution_count": null,
      "outputs": []
    },
    {
      "cell_type": "markdown",
      "metadata": {
        "id": "UtNQHccUFHgG"
      },
      "source": [
        "### kNearestNeighbors Classifier"
      ]
    },
    {
      "cell_type": "code",
      "metadata": {
        "colab": {
          "base_uri": "https://localhost:8080/"
        },
        "id": "fspzL9xvea6O",
        "outputId": "5648012e-cef9-4e9f-c08b-b64685fb4918"
      },
      "source": [
        "leafs = list(range(1,50))\n",
        "neighbors = list(range(1,30))\n",
        "p_=[1,2]\n",
        "#Convert to dictionary\n",
        "params = {'estimator__leaf_size': leafs,\n",
        "          'estimator__n_neighbors': neighbors,\n",
        "          'estimator__p': p_}\n",
        "base_estimator = OneVsRestClassifier(KNeighborsClassifier())\n",
        "rand_cv = RandomizedSearchCV(estimator=base_estimator, param_distributions=params,n_iter=15, cv=5, scoring='f1_micro', n_jobs=-1, verbose=1)\n",
        "rand_cv.fit(X_train_tfidf, y_train)\n",
        "print(\"Best estimator: \",rand_cv.best_estimator_)\n",
        "print(\"Best Cross Validation Score: \",rand_cv.best_score_)"
      ],
      "execution_count": null,
      "outputs": [
        {
          "output_type": "stream",
          "text": [
            "Fitting 5 folds for each of 15 candidates, totalling 75 fits\n"
          ],
          "name": "stdout"
        },
        {
          "output_type": "stream",
          "text": [
            "[Parallel(n_jobs=-1)]: Using backend LokyBackend with 2 concurrent workers.\n",
            "[Parallel(n_jobs=-1)]: Done  46 tasks      | elapsed: 30.4min\n",
            "[Parallel(n_jobs=-1)]: Done  75 out of  75 | elapsed: 50.6min finished\n"
          ],
          "name": "stderr"
        },
        {
          "output_type": "stream",
          "text": [
            "Best estimator:  OneVsRestClassifier(estimator=KNeighborsClassifier(algorithm='auto',\n",
            "                                                   leaf_size=8,\n",
            "                                                   metric='minkowski',\n",
            "                                                   metric_params=None,\n",
            "                                                   n_jobs=None, n_neighbors=1,\n",
            "                                                   p=2, weights='uniform'),\n",
            "                    n_jobs=None)\n",
            "Best Cross Validation Score:  0.16848566890542102\n"
          ],
          "name": "stdout"
        }
      ]
    },
    {
      "cell_type": "code",
      "metadata": {
        "colab": {
          "base_uri": "https://localhost:8080/"
        },
        "id": "uEDnXAJjx0bX",
        "outputId": "c52cbc3e-c796-4146-d5bf-e174993875cf"
      },
      "source": [
        "knn_best=rand_cv.best_estimator_\n",
        "knn_best.fit(X_train_tfidf,y_train)\n",
        "pred_knn_best = knn_best.predict(X_test_tfidf)\n",
        "print(hamming_loss(y_test,pred_knn_best))\n",
        "print('\\n')\n",
        "print(accuracy_score(y_test,pred_knn_best))"
      ],
      "execution_count": null,
      "outputs": [
        {
          "output_type": "stream",
          "text": [
            "0.015846296931526033\n",
            "\n",
            "\n",
            "0.04609429978888107\n"
          ],
          "name": "stdout"
        }
      ]
    },
    {
      "cell_type": "markdown",
      "metadata": {
        "id": "EIzMr1KP6RKe"
      },
      "source": [
        "## **Adapted Algorithm**"
      ]
    },
    {
      "cell_type": "markdown",
      "metadata": {
        "id": "B1I3CZwswrct"
      },
      "source": [
        "- Adapted algorithm: As the name suggests, adapting the algorithm to directly perform multi-label classification, rather than transforming the problem into different subsets of problems.\n",
        "\n",
        "For example, multi-label version of kNN is represented by MLkNN. So, let us quickly implement this on our randomly generated data set."
      ]
    },
    {
      "cell_type": "markdown",
      "metadata": {
        "id": "_xULwXG9tTjH"
      },
      "source": [
        "### Multi Knn classifier"
      ]
    },
    {
      "cell_type": "code",
      "metadata": {
        "colab": {
          "base_uri": "https://localhost:8080/"
        },
        "id": "mZKayYnHy9-j",
        "outputId": "d850017e-0086-4201-fad3-2b9fff018225"
      },
      "source": [
        "mlknn_classifier = MLkNN()\n",
        "mlknn_classifier.fit(X_train_tfidf, y_train)"
      ],
      "execution_count": null,
      "outputs": [
        {
          "output_type": "execute_result",
          "data": {
            "text/plain": [
              "MLkNN(ignore_first_neighbours=0, k=10, s=1.0)"
            ]
          },
          "metadata": {
            "tags": []
          },
          "execution_count": 68
        }
      ]
    },
    {
      "cell_type": "code",
      "metadata": {
        "colab": {
          "base_uri": "https://localhost:8080/"
        },
        "id": "JpMkf4aQzCju",
        "outputId": "ac21e1dd-b58a-4bed-fee3-1258876703b2"
      },
      "source": [
        "mlknn_classifier.knn_"
      ],
      "execution_count": null,
      "outputs": [
        {
          "output_type": "execute_result",
          "data": {
            "text/plain": [
              "NearestNeighbors(algorithm='auto', leaf_size=30, metric='minkowski',\n",
              "                 metric_params=None, n_jobs=None, n_neighbors=10, p=2,\n",
              "                 radius=1.0)"
            ]
          },
          "metadata": {
            "tags": []
          },
          "execution_count": 123
        }
      ]
    },
    {
      "cell_type": "code",
      "metadata": {
        "colab": {
          "base_uri": "https://localhost:8080/"
        },
        "id": "JuOI3eHA2ATV",
        "outputId": "30f8f793-4a60-43e7-c578-81efae1ca847"
      },
      "source": [
        "predicted = mlknn_classifier.predict(X_test_tfidf)\n",
        "  \n",
        "print(accuracy_score(y_test, predicted))\n",
        "print(hamming_loss(y_test, predicted))"
      ],
      "execution_count": null,
      "outputs": [
        {
          "output_type": "stream",
          "text": [
            "0.07776213933849402\n",
            "0.01169247009148487\n"
          ],
          "name": "stdout"
        }
      ]
    },
    {
      "cell_type": "markdown",
      "metadata": {
        "id": "JXhJGpCEqsye"
      },
      "source": [
        "### Tuning hyper parameter for mult-knn model"
      ]
    },
    {
      "cell_type": "markdown",
      "metadata": {
        "id": "d5rMUcgHG6BT"
      },
      "source": [
        "- In order to get the optimal number of the k neighbors for our model. We are running a hyper-parameter tuning. \n",
        "\n",
        "- As a metric of evaluation we did choose the accuracy score and the hamming_loss with more importance given to the second one. \n",
        "\n",
        "- So to obtain the best k neighbor we are choosing the value that gave the best accuracy score and the lowest hamming_loss"
      ]
    },
    {
      "cell_type": "code",
      "metadata": {
        "id": "2sOECvMeoK15"
      },
      "source": [
        "#range of k_neighbour\n",
        "ham_loss=[]\n",
        "acc_score=[]\n",
        "for kn in range(10,31,2):\n",
        "  ml=MLkNN(k=kn)\n",
        "  ml.fit(X_train_tfidf, y_train)\n",
        "  pred_ml=ml.predict(X_test_tfidf)\n",
        "  ham_loss.append(hamming_loss(y_test, pred_ml))\n",
        "  acc_score.append(accuracy_score(y_test, pred_ml))\n"
      ],
      "execution_count": null,
      "outputs": []
    },
    {
      "cell_type": "code",
      "metadata": {
        "id": "gBaSYK4AuI-5"
      },
      "source": [
        "import matplotlib.pyplot as plt \n",
        "%matplotlib inline"
      ],
      "execution_count": null,
      "outputs": []
    },
    {
      "cell_type": "code",
      "metadata": {
        "colab": {
          "base_uri": "https://localhost:8080/",
          "height": 390
        },
        "id": "CvJg-YCdLq71",
        "outputId": "fccc3fb7-c287-4e61-a25a-1364b15570e4"
      },
      "source": [
        "fig=plt.figure(figsize=(10,6))\n",
        "ax1 = fig.add_subplot(121)\n",
        "ax2 = fig.add_subplot(122)\n",
        "ax1.plot(range(10,31,2),ham_loss,marker='o')\n",
        "ax1.title.set_text('hamming_loss')\n",
        "ax2.plot(range(10,31,2),acc_score,marker='x')\n",
        "ax2.title.set_text('accuracy_score')\n",
        "plt.show()"
      ],
      "execution_count": null,
      "outputs": [
        {
          "output_type": "display_data",
          "data": {
            "image/png": "[encoded data removed]",
            "text/plain": [
              "<Figure size 720x432 with 2 Axes>"
            ]
          },
          "metadata": {
            "tags": [],
            "needs_background": "light"
          }
        }
      ]
    },
    {
      "cell_type": "code",
      "metadata": {
        "colab": {
          "base_uri": "https://localhost:8080/"
        },
        "id": "qx9kpLFBuQp2",
        "outputId": "6b04baaf-13ba-4cd7-c465-5f057c894e57"
      },
      "source": [
        "mlknn_classifier = MLkNN(k=18)\n",
        "mlknn_classifier.fit(X_train_tfidf, y_train)"
      ],
      "execution_count": 119,
      "outputs": [
        {
          "output_type": "execute_result",
          "data": {
            "text/plain": [
              "MLkNN(ignore_first_neighbours=0, k=18, s=1.0)"
            ]
          },
          "metadata": {
            "tags": []
          },
          "execution_count": 119
        }
      ]
    },
    {
      "cell_type": "code",
      "metadata": {
        "colab": {
          "base_uri": "https://localhost:8080/"
        },
        "id": "GzpRvAHG4gnE",
        "outputId": "e13707e0-7d46-4e4b-bd3c-b54833a232dc"
      },
      "source": [
        "pred_best= mlknn_classifier.predict(X_test_tfidf)\n",
        "  \n",
        "print(accuracy_score(y_test, pred_best))\n",
        "print(hamming_loss(y_test, pred_best))"
      ],
      "execution_count": null,
      "outputs": [
        {
          "output_type": "stream",
          "text": [
            "0.19321910317170982\n",
            "0.016562158220925993\n"
          ],
          "name": "stdout"
        }
      ]
    },
    {
      "cell_type": "markdown",
      "metadata": {
        "id": "Xmi9PU81foJy"
      },
      "source": [
        "## **Final Model** "
      ]
    },
    {
      "cell_type": "markdown",
      "metadata": {
        "id": "9OmzCmq6HhYs"
      },
      "source": [
        "We have picked three model to be our contestors for the best final method. We have until now: \n",
        "\n",
        "- **BinaryRelevane** with the **RandomForest** classifier as estimator\n",
        "\n",
        "- **Multi-kNN** classifier with k=18 Neighbors\n",
        "\n",
        "- **OneVsRestClassifier** with the **XGBoost** classifier as an estimator"
      ]
    },
    {
      "cell_type": "code",
      "metadata": {
        "id": "YIU_wQ4n8Vlv"
      },
      "source": [
        "def missing_predictions(model,dt_eval):\n",
        "\n",
        "  prediction_dict={'title':[],\n",
        "                   'true_tags':[],\n",
        "                   'predicted_tags':[]}\n",
        "  for title in dt_eval:\n",
        "    title_vect=vectorizar.transform([title])\n",
        "    pred_title=model.predict(title_vect)\n",
        "    pred_indexs=np.argsort(-pred_title)[:,:np.sum(pred_title)][0]\n",
        "    tags_list=data_labels.iloc[:,5:].columns[pred_indexs].values.tolist()\n",
        "\n",
        "    prediction_dict['title'].append(title)\n",
        "    prediction_dict['true_tags'].append(data_labels.loc[data_labels['Title']==title,'main_tags'].values[0])\n",
        "    prediction_dict['predicted_tags'].append(' '.join(word for word in tags_list))\n",
        "\n",
        "  pred_df=pd.DataFrame(prediction_dict)\n",
        "  pred_df.loc[pred_df['predicted_tags']=='','predicted_tags']=np.nan\n",
        "\n",
        "  return pred_df.isna().sum()\n"
      ],
      "execution_count": 127,
      "outputs": []
    },
    {
      "cell_type": "code",
      "metadata": {
        "id": "qT4XQR2vvsBa",
        "colab": {
          "base_uri": "https://localhost:8080/"
        },
        "outputId": "ec2a0900-2033-4920-f838-4a0c82f59a7e"
      },
      "source": [
        "missing_predictions(binary_clf_rand,X_test[:2000])"
      ],
      "execution_count": 122,
      "outputs": [
        {
          "output_type": "execute_result",
          "data": {
            "text/plain": [
              "title               0\n",
              "true_tags           0\n",
              "predicted_tags    862\n",
              "dtype: int64"
            ]
          },
          "metadata": {
            "tags": []
          },
          "execution_count": 122
        }
      ]
    },
    {
      "cell_type": "code",
      "metadata": {
        "id": "voD6Chn8HyT3",
        "colab": {
          "base_uri": "https://localhost:8080/"
        },
        "outputId": "b76176b7-abf1-431d-f574-4e892067d978"
      },
      "source": [
        "missing_predictions(mlknn_classifier,X_test[:2000])"
      ],
      "execution_count": 123,
      "outputs": [
        {
          "output_type": "execute_result",
          "data": {
            "text/plain": [
              "title               0\n",
              "true_tags           0\n",
              "predicted_tags    607\n",
              "dtype: int64"
            ]
          },
          "metadata": {
            "tags": []
          },
          "execution_count": 123
        }
      ]
    },
    {
      "cell_type": "code",
      "metadata": {
        "id": "vhOZUk-7HzHG",
        "colab": {
          "base_uri": "https://localhost:8080/"
        },
        "outputId": "f754d0c1-df88-445f-8efd-93c1d79cd80b"
      },
      "source": [
        "missing_predictions(boost_best,X_test[:2000])"
      ],
      "execution_count": 128,
      "outputs": [
        {
          "output_type": "execute_result",
          "data": {
            "text/plain": [
              "title               0\n",
              "true_tags           0\n",
              "predicted_tags    874\n",
              "dtype: int64"
            ]
          },
          "metadata": {
            "tags": []
          },
          "execution_count": 128
        }
      ]
    },
    {
      "cell_type": "markdown",
      "metadata": {
        "id": "_pqBS10XIK8R"
      },
      "source": [
        "One way to get the best out of these three methods, is to compare the rate of missing prediction. \n",
        "\n",
        "In this case, we can see that **Multi-kNN** gives the lowest rate\n",
        "\n",
        "Thats it! we chose the **Multi-kNN** as our final model"
      ]
    },
    {
      "cell_type": "markdown",
      "metadata": {
        "id": "TwFCm06YiBp_"
      },
      "source": [
        "### Test on unseen document"
      ]
    },
    {
      "cell_type": "code",
      "metadata": {
        "id": "9m4FTmSgiAhC"
      },
      "source": [
        "test_doc='i want to use pandas to filter reviews with the attributed score do i need to build a function with python '"
      ],
      "execution_count": 133,
      "outputs": []
    },
    {
      "cell_type": "code",
      "metadata": {
        "id": "mpysAXyijMfs"
      },
      "source": [
        "def get_prediction(model,text):\n",
        "\n",
        "  text_vect=vectorizar.transform([text])\n",
        "  pred=model.predict(text_vect).toarray()\n",
        "  pred_indexs=np.argsort(-pred)[:,:np.sum(pred)][0]\n",
        "  tags_list=data_labels.iloc[:,5:].columns[pred_indexs].values.tolist()\n",
        "\n",
        "  return tags_list"
      ],
      "execution_count": 147,
      "outputs": []
    },
    {
      "cell_type": "code",
      "metadata": {
        "colab": {
          "base_uri": "https://localhost:8080/"
        },
        "id": "MQAGJXMUj0LS",
        "outputId": "91b0e4f9-0d13-4b55-d4cc-ae1f932c3587"
      },
      "source": [
        "get_prediction(mlknn_classifier,test_doc)"
      ],
      "execution_count": 137,
      "outputs": [
        {
          "output_type": "execute_result",
          "data": {
            "text/plain": [
              "['python']"
            ]
          },
          "metadata": {
            "tags": []
          },
          "execution_count": 137
        }
      ]
    },
    {
      "cell_type": "code",
      "metadata": {
        "id": "PFiQEEMHj3zm"
      },
      "source": [
        "test_doc2='how would firebase be connected to a flask app'"
      ],
      "execution_count": 138,
      "outputs": []
    },
    {
      "cell_type": "code",
      "metadata": {
        "colab": {
          "base_uri": "https://localhost:8080/"
        },
        "id": "QdE0QWZLkgT9",
        "outputId": "ec42cf2e-ce3f-46b6-f0b9-2c3ff7e790d5"
      },
      "source": [
        "get_prediction(mlknn_classifier,test_doc2)"
      ],
      "execution_count": 148,
      "outputs": [
        {
          "output_type": "execute_result",
          "data": {
            "text/plain": [
              "['firebase', 'flutter']"
            ]
          },
          "metadata": {
            "tags": []
          },
          "execution_count": 148
        }
      ]
    },
    {
      "cell_type": "code",
      "metadata": {
        "id": "9FlBSXJLkiDz"
      },
      "source": [
        "test_doc3='how local transitivity and barrat transitivity are calculated for directed graph in igraph rlang'"
      ],
      "execution_count": 140,
      "outputs": []
    },
    {
      "cell_type": "code",
      "metadata": {
        "colab": {
          "base_uri": "https://localhost:8080/"
        },
        "id": "2JAakacCk9Kr",
        "outputId": "ccb18125-f667-426b-bd10-d7cdb9692669"
      },
      "source": [
        "get_prediction(mlknn_classifier,test_doc3)"
      ],
      "execution_count": 141,
      "outputs": [
        {
          "output_type": "execute_result",
          "data": {
            "text/plain": [
              "[]"
            ]
          },
          "metadata": {
            "tags": []
          },
          "execution_count": 141
        }
      ]
    },
    {
      "cell_type": "code",
      "metadata": {
        "id": "LwjAHJd2k_9i"
      },
      "source": [
        "test_doc4='faster way to query pandas dataframe for a value based on values in other column'"
      ],
      "execution_count": 149,
      "outputs": []
    },
    {
      "cell_type": "code",
      "metadata": {
        "colab": {
          "base_uri": "https://localhost:8080/"
        },
        "id": "6VVZpOxKp6rn",
        "outputId": "ff2849fb-a675-4560-990a-6d8f6586281d"
      },
      "source": [
        "get_prediction(mlknn_classifier,test_doc4)"
      ],
      "execution_count": 150,
      "outputs": [
        {
          "output_type": "execute_result",
          "data": {
            "text/plain": [
              "['python', 'dataframe', 'pandas']"
            ]
          },
          "metadata": {
            "tags": []
          },
          "execution_count": 150
        }
      ]
    },
    {
      "cell_type": "code",
      "metadata": {
        "colab": {
          "base_uri": "https://localhost:8080/"
        },
        "id": "GIBkGwHip9hf",
        "outputId": "9aa17dcb-32e4-47a5-ad22-8e313cfb2e86"
      },
      "source": [
        "test_doc5='how to create json file based on pandas dataframe python'\n",
        "get_prediction(mlknn_classifier,test_doc5)"
      ],
      "execution_count": 151,
      "outputs": [
        {
          "output_type": "execute_result",
          "data": {
            "text/plain": [
              "['python', 'json', 'pandas']"
            ]
          },
          "metadata": {
            "tags": []
          },
          "execution_count": 151
        }
      ]
    },
    {
      "cell_type": "code",
      "metadata": {
        "colab": {
          "base_uri": "https://localhost:8080/"
        },
        "id": "yYEbc2SGqTBH",
        "outputId": "eb08dcc4-70de-4b0f-ebac-e56ff074c383"
      },
      "source": [
        "test_doc6='returning a value from within a nested javascript function duplicate'\n",
        "get_prediction(mlknn_classifier,test_doc6)"
      ],
      "execution_count": 152,
      "outputs": [
        {
          "output_type": "execute_result",
          "data": {
            "text/plain": [
              "['arrays', 'javascript']"
            ]
          },
          "metadata": {
            "tags": []
          },
          "execution_count": 152
        }
      ]
    },
    {
      "cell_type": "code",
      "metadata": {
        "colab": {
          "base_uri": "https://localhost:8080/"
        },
        "id": "ikmf0FW-q03b",
        "outputId": "81fbae18-8b40-4d0a-8935-e50cbd5b9034"
      },
      "source": [
        "test_doc7=  \n",
        "get_prediction(mlknn_classifier,test_doc7)"
      ],
      "execution_count": 153,
      "outputs": [
        {
          "output_type": "execute_result",
          "data": {
            "text/plain": [
              "['django']"
            ]
          },
          "metadata": {
            "tags": []
          },
          "execution_count": 153
        }
      ]
    }
  ]
}