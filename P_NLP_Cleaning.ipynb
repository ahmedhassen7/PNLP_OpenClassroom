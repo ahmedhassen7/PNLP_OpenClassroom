{
  "nbformat": 4,
  "nbformat_minor": 0,
  "metadata": {
    "colab": {
      "name": "P_NLP_Cleaning.ipynb",
      "provenance": [],
      "collapsed_sections": [
        "EgaduSydtDxi"
      ]
    },
    "kernelspec": {
      "display_name": "Python 3",
      "name": "python3"
    },
    "language_info": {
      "name": "python"
    }
  },
  "cells": [
    {
      "cell_type": "markdown",
      "metadata": {
        "id": "mU27Cupe5EK7"
      },
      "source": [
        "# **Table of contents**\n",
        "\n",
        "Introduction\n",
        "\n",
        "1.   Importing Libraries\n",
        "\n",
        "2.   Data Gathering\n",
        "\n",
        "  *   SQL Request\n",
        "\n",
        "3.   List of cleaning functions\n",
        "2.   Cleaning pipelines\n",
        "\n",
        "5.   Cleaned Data\n",
        "\n",
        "   *   data: inluding all word positions\n",
        "   *   data_nouns: keeping only nouns in texts\n",
        "\n",
        "6.   Analysing the data\n",
        "\n",
        "   *   unique words\n",
        "   *   most frequent word\n",
        "\n",
        "\n",
        "\n",
        "\n",
        "\n",
        "\n",
        "\n",
        "\n",
        "\n",
        "\n",
        "\n"
      ]
    },
    {
      "cell_type": "markdown",
      "metadata": {
        "id": "S_yeOVR_XAAF"
      },
      "source": [
        "# **Introduction**"
      ]
    },
    {
      "cell_type": "markdown",
      "metadata": {
        "id": "5Db4p42GXnjg"
      },
      "source": [
        "- In this study, we will offer a textual analysis of the questions asked on the stackoverflows site.\n",
        "\n",
        "-  Our ultimate goal is to offer automatic tagging of questions to help beginners in their first steps on the site."
      ]
    },
    {
      "cell_type": "markdown",
      "metadata": {
        "id": "ZKh1mFeCX3en"
      },
      "source": [
        "## **Importing Libraries** "
      ]
    },
    {
      "cell_type": "code",
      "metadata": {
        "id": "935xRRG25_qx",
        "colab": {
          "base_uri": "https://localhost:8080/"
        },
        "outputId": "4972ca89-06f1-47a0-8432-84e21f1afcc9"
      },
      "source": [
        "import pandas as pd\n",
        "import numpy as np\n",
        "import matplotlib.pyplot as plt\n",
        "from bs4 import BeautifulSoup\n",
        "import string\n",
        "import re \n",
        "import nltk\n",
        "from nltk.corpus import wordnet as wn\n",
        "from nltk.tokenize import word_tokenize\n",
        "from nltk.corpus import stopwords\n",
        "from nltk.stem import WordNetLemmatizer\n",
        "from nltk.tag.perceptron import PerceptronTagger\n",
        "from nltk.tag import pos_tag\n",
        "from nltk.stem import SnowballStemmer\n",
        "from sklearn.feature_extraction.text import CountVectorizer,TfidfTransformer\n",
        "from sklearn.decomposition import LatentDirichletAllocation\n",
        "nltk.download('averaged_perceptron_tagger')\n",
        "nltk.download('stopwords')\n",
        "nltk.download('punkt')\n",
        "nltk.download('wordnet')"
      ],
      "execution_count": null,
      "outputs": [
        {
          "output_type": "stream",
          "text": [
            "[nltk_data] Downloading package averaged_perceptron_tagger to\n",
            "[nltk_data]     /root/nltk_data...\n",
            "[nltk_data]   Unzipping taggers/averaged_perceptron_tagger.zip.\n",
            "[nltk_data] Downloading package stopwords to /root/nltk_data...\n",
            "[nltk_data]   Unzipping corpora/stopwords.zip.\n",
            "[nltk_data] Downloading package punkt to /root/nltk_data...\n",
            "[nltk_data]   Unzipping tokenizers/punkt.zip.\n",
            "[nltk_data] Downloading package wordnet to /root/nltk_data...\n",
            "[nltk_data]   Unzipping corpora/wordnet.zip.\n"
          ],
          "name": "stdout"
        },
        {
          "output_type": "execute_result",
          "data": {
            "text/plain": [
              "True"
            ]
          },
          "metadata": {
            "tags": []
          },
          "execution_count": 2
        }
      ]
    },
    {
      "cell_type": "markdown",
      "metadata": {
        "id": "rkiVj8IxDiiY"
      },
      "source": [
        "## **Data Gathering**"
      ]
    },
    {
      "cell_type": "markdown",
      "metadata": {
        "id": "n5FYFCj0EAYt"
      },
      "source": [
        "### SQL Request"
      ]
    },
    {
      "cell_type": "code",
      "metadata": {
        "id": "oQL-5yOiEFgh"
      },
      "source": [
        "#here the SQL Request we used\n",
        "'''\n",
        "SELECT * FROM posts\n",
        "WHERE Title is not null and Title <> '' AND\n",
        "      Tags is not null and Tags <> '' AND \n",
        "      CreationDate>=  '2020-04-01' AND CreationDate < '2021-04-01' AND \n",
        "      Body LIKE '%<code>%' AND\n",
        "      Score>1 AND AnswerCount>1 AND\n",
        "      FavoriteCount>0 AND ViewCount>10\n",
        "      '''"
      ],
      "execution_count": null,
      "outputs": []
    },
    {
      "cell_type": "markdown",
      "metadata": {
        "id": "eUsM7Mj9E-v-"
      },
      "source": [
        "We did filter the data regarding:\n",
        "\n",
        "- **Title** & **Tags**: No empty Titles or Tags\n",
        "- **CreationDate**: one year of data\n",
        "- **Body_script**: Question with the *code* included\n",
        "- **Score** & **AnswerCount**: we chose questions with high ratings and more than one answer \n",
        "- **N_views** & **Favorite_Count**: most viewed questions and the ones judged the best "
      ]
    },
    {
      "cell_type": "code",
      "metadata": {
        "id": "gW3vL8bF6NK1"
      },
      "source": [
        "data=pd.read_csv('/content/drive/MyDrive/Formation_Machine_Learning/P_NLP/data/QueryResults.csv',index_col=0)"
      ],
      "execution_count": null,
      "outputs": []
    },
    {
      "cell_type": "code",
      "metadata": {
        "id": "ZtoX-xvwuIn3"
      },
      "source": [
        "data=data.sample(10000)"
      ],
      "execution_count": null,
      "outputs": []
    },
    {
      "cell_type": "code",
      "metadata": {
        "colab": {
          "base_uri": "https://localhost:8080/"
        },
        "id": "mOJHh8kjCRTv",
        "outputId": "0885c516-4db0-4082-fcbf-6581ad6de99a"
      },
      "source": [
        "data['Body'].sample(10)"
      ],
      "execution_count": null,
      "outputs": [
        {
          "output_type": "execute_result",
          "data": {
            "text/plain": [
              "Id\n",
              "61041282    <p>I have a small WPF application which has a ...\n",
              "63357120    <p>I have an issue while deploying my Spring b...\n",
              "61624066    <p>I have a Snakemake workflow that I've been ...\n",
              "61616810    <p>In Pytorch, is there cubic spline interpola...\n",
              "61195550    <p>I remember reading somewhere that a type li...\n",
              "62667045    <p>I would like to do the exact same thing as ...\n",
              "62856487    <p>I'm using Application Insights in ASP.NET C...\n",
              "62951440    <p>I have a simple <code>select</code> which n...\n",
              "65514207    <p>Small question on an issue reported by Sona...\n",
              "63343774    <p>I am new in flutter just want to know using...\n",
              "Name: Body, dtype: object"
            ]
          },
          "metadata": {
            "tags": []
          },
          "execution_count": 39
        }
      ]
    },
    {
      "cell_type": "code",
      "metadata": {
        "colab": {
          "base_uri": "https://localhost:8080/",
          "height": 35
        },
        "id": "Ec-bxjLG6NQq",
        "outputId": "19e3fabc-fca5-4b28-bcfb-978a3a6553c5"
      },
      "source": [
        "data['Tags'].loc[61195550]"
      ],
      "execution_count": null,
      "outputs": [
        {
          "output_type": "execute_result",
          "data": {
            "application/vnd.google.colaboratory.intrinsic+json": {
              "type": "string"
            },
            "text/plain": [
              "'<haskell><traversable>'"
            ]
          },
          "metadata": {
            "tags": []
          },
          "execution_count": 45
        }
      ]
    },
    {
      "cell_type": "code",
      "metadata": {
        "colab": {
          "base_uri": "https://localhost:8080/",
          "height": 35
        },
        "id": "sQzRkV5kF9K6",
        "outputId": "798992f3-ff7d-4564-86a5-83a9276a376c"
      },
      "source": [
        "body_pipeline(data['Body'].loc[61195550])"
      ],
      "execution_count": null,
      "outputs": [
        {
          "output_type": "execute_result",
          "data": {
            "application/vnd.google.colaboratory.intrinsic+json": {
              "type": "string"
            },
            "text/plain": [
              "'remember reading somewhere type like one bit explanation remember hold instance visit element lawful instance however remember lawful instance one look fine first glance unlawful'"
            ]
          },
          "metadata": {
            "tags": []
          },
          "execution_count": 41
        }
      ]
    },
    {
      "cell_type": "code",
      "metadata": {
        "colab": {
          "base_uri": "https://localhost:8080/",
          "height": 51
        },
        "id": "cepguyBNGQEt",
        "outputId": "4238cbfb-7d73-4b97-a51d-43d4fe16e7a9"
      },
      "source": [
        "code_pipeline(data['Body'].loc[61195550])"
      ],
      "execution_count": null,
      "outputs": [
        {
          "output_type": "execute_result",
          "data": {
            "application/vnd.google.colaboratory.intrinsic+json": {
              "type": "string"
            },
            "text/plain": [
              "'traversabledata bar bar deriving show  instance functor bar where fmap bar bar x  instance foldable bar where foldmap bar f lt  gt x foldmap   foldmapdefaulttraversableinstance traversable bar where sequencea  bar bar  lt lt   gt  x'"
            ]
          },
          "metadata": {
            "tags": []
          },
          "execution_count": 42
        }
      ]
    },
    {
      "cell_type": "code",
      "metadata": {
        "colab": {
          "base_uri": "https://localhost:8080/",
          "height": 35
        },
        "id": "tpbCri-FIE5X",
        "outputId": "0570e1c2-5d06-4d30-d5e5-da95e1027c26"
      },
      "source": [
        "clean_tags(data['Tags'].loc[61195550])"
      ],
      "execution_count": null,
      "outputs": [
        {
          "output_type": "execute_result",
          "data": {
            "application/vnd.google.colaboratory.intrinsic+json": {
              "type": "string"
            },
            "text/plain": [
              "'haskell traversable'"
            ]
          },
          "metadata": {
            "tags": []
          },
          "execution_count": 47
        }
      ]
    },
    {
      "cell_type": "markdown",
      "metadata": {
        "id": "uQZa-nPzD6ZA"
      },
      "source": [
        "##List of cleaning functions"
      ]
    },
    {
      "cell_type": "code",
      "metadata": {
        "id": "K5BQEMm1C925"
      },
      "source": [
        "def get_code(input):\n",
        "  ind=input.index('<code>')\n",
        "  res=''\n",
        "  while '<code>' in input[ind:]:\n",
        "    end=input.index('</code>',ind)\n",
        "    res=res+input[ind+6:end]\n",
        "    ind=input.find('<code>',end)\n",
        "  return res.lower()\n",
        "\n",
        "def substitute_code(input):\n",
        "  ind=input.index('<code>')\n",
        "  while '<code>' in input[ind:]:\n",
        "    end=input.index('</code>')\n",
        "    input=input.replace(input[ind:end+7],' ')\n",
        "    ind=input.find('<code>')\n",
        "  return input.lower()\n",
        "\n",
        "\n",
        "from bs4 import BeautifulSoup\n",
        "def remove_html_tags(input):\n",
        "  soup=BeautifulSoup(input,'html.parser')\n",
        "  return soup.get_text(' ')\n",
        "\n",
        "\n",
        "def remove_punctuation(input):\n",
        "\n",
        "  lang_dict={'c#':'csharp',\n",
        "             'C#':'csharp',\n",
        "             'c#-4.0':'csharp',\n",
        "\n",
        "             'Go':'goLang',\n",
        "             'go':'goLang',\n",
        "\n",
        "             'VB':'VisualBasic',\n",
        "             'vb':'VisualBasic',\n",
        "             'Vb':'VisualBasic',\n",
        "             'VB.net':'VisualBasic',\n",
        "\n",
        "             'd3.js':'d3js',\n",
        "             'd3\\.js':'d3js',\n",
        "             'nvd3.js':'d3js',\n",
        "\n",
        "             'g++5.1':'gplusplus',\n",
        "             'g++4.8':'gplusplus',\n",
        "             'g++':'gplusplus',\n",
        "             'gcc4.8':'gplusplus',\n",
        "             'gcc':'gplusplus',\n",
        "             'gcc10':'gplusplus',\n",
        "             'g++10':'gplusplus',\n",
        "\n",
        "             'c++':'cplusplus',\n",
        "             'C++':'cplusplus',\n",
        "             'c++14':'cplusplus',\n",
        "             'C++14':'cplusplus',\n",
        "             'c++17':'cplusplus',\n",
        "             'C++17':'cplusplus',\n",
        "             'c++98':'cplusplus',\n",
        "             'C++98':'cplusplus',\n",
        "             'c++11':'cplusplus',\n",
        "             'C++11':'cplusplus',\n",
        "             'c++20':'cplusplus',\n",
        "             'C++20':'cplusplus',\n",
        "             'clang++':'cplusplus',\n",
        "             'libstdc++':'cplusplus',\n",
        "             'libs++':'cplusplus',\n",
        "\n",
        "             'c':'clang',\n",
        "             'C':'clang',\n",
        "\n",
        "             'qt':'Qt_framework',\n",
        "             'qt4':'Qt_framework',\n",
        "             'qt5':'Qt_framework',\n",
        "             'qt-creator':'Qt_framework',\n",
        "             'pyqt':'Qt_framework',\n",
        "\n",
        "             'vue.js':'vuejs',\n",
        "             'vuejs2':'vuejs',\n",
        "             'vue-component':'vuejs',\n",
        "             'vuex':'vuejs',\n",
        "             'vuetify.js':'vuejs',\n",
        "             'vue-router':'vuejs',\n",
        "\n",
        "             'r':'rLang',\n",
        "             'R':'rLang',\n",
        "\n",
        "             '.net':'dotnet',\n",
        "             \n",
        "             'io':'input_output',\n",
        "             \n",
        "             'js':'javascript',\n",
        "             \n",
        "             'vs':'VisualStudio'}\n",
        "  \n",
        "  word_list=[]\n",
        "  for word in input.split():\n",
        "    if word in list(lang_dict.keys()):\n",
        "      word_list.append(lang_dict[word])\n",
        "    else:\n",
        "      word_list.append(word)\n",
        "  \n",
        "  input=' '.join(token for token in word_list)\n",
        "  #punctuation\n",
        "  input=re.sub(pattern=r'\\w*\\d\\w*',repl='', string=input).strip() #Remove digits and word associated with digits\n",
        "  input=re.sub(pattern='\\\\s*\\\\b(?=\\\\w*(\\\\w)\\\\1{2,})\\\\w*\\\\b',repl='',string=str(input))#removing words like 'zzz', 'testtting', 'grrrrrrreet. words with consecutive three repeating characters\n",
        "  input=re.sub(pattern='[^\\w]',repl=' ',string=input) #Remove special characters\n",
        "  input=re.sub(pattern=r'\\s+[a-zA-Z]\\s+',repl=' ',string=input) #Remove all single characters\n",
        "  input=re.sub(pattern=r'\\^[a-zA-Z]\\s+',repl= ' ', string=input)#Remove single characters from the start\n",
        "  \n",
        "  return input\n",
        "\n",
        "\n",
        "\n",
        "from nltk.corpus import stopwords\n",
        "def remove_stopwords(input):\n",
        "\n",
        "  stop_words=stopwords.words('english')\n",
        "  #The custom Stopwords list, was built with the top 100 common words in titles and body after running a counter method to check for word occurences\n",
        "  stop_words.extend(['how','why','is','what','use','can','keep','get','do','want','give','read',\n",
        "                     'leave','code','consider','program','difference','solution','modify','way',\n",
        "                     'choose','miss','change','search','implement','install','select','would',\n",
        "                     'could','none','retrieve','find','copy','explain','handle','count','help',\n",
        "                     'please','react','create','work','run','add','code','name','without','call',\n",
        "                     'make','new','update','remove','another','test','check','access','show','select','need'])\n",
        "  \n",
        "  return ' '.join(word for word in word_tokenize(input) if word not in stop_words)\n",
        "  \n",
        "\n",
        "def lemmatize(input,only_nouns=False):\n",
        "\n",
        "  #main idea behind ''only_nouns'' argument, is to simplify the input with keeping only nouns for topic modeling \n",
        "\n",
        "\n",
        "  wnl=WordNetLemmatizer()\n",
        "  word_lemmatized=[]\n",
        "  for word,tag in pos_tag(word_tokenize(input)):\n",
        "\n",
        "    if len(word)<=3:\n",
        "      word_lemmatized.append(word)\n",
        "    else:\n",
        "      if not only_nouns:\n",
        "        if tag.startswith('N'):\n",
        "          word_lemmatized.append(wnl.lemmatize(word,pos='n'))\n",
        "        elif tag.startswith('V'):\n",
        "          word_lemmatized.append(wnl.lemmatize(word,pos='v'))\n",
        "        elif tag.startswith('J'):\n",
        "          word_lemmatized.append(wnl.lemmatize(word,pos='a'))\n",
        "        elif tag.startswith('R'):\n",
        "          word_lemmatized.append(wnl.lemmatize(word,pos='r'))\n",
        "        else:\n",
        "          word_lemmatized.append(wnl.lemmatize(word,pos='n'))\n",
        "      else:\n",
        "        if tag.startswith('N'):\n",
        "          word_lemmatized.append(wnl.lemmatize(word,pos='n'))    \n",
        "\n",
        "  return ' '.join(x for x in word_lemmatized)\n",
        "\n",
        "def stemming(input):\n",
        "  \n",
        "  stem=SnowballStemmer('english', ignore_stopwords=True)\n",
        "\n",
        "  return ' '.join(stem.stem(word) for word in word_tokenize(input))\n"
      ],
      "execution_count": null,
      "outputs": []
    },
    {
      "cell_type": "markdown",
      "metadata": {
        "id": "ctx6gdbvEMDp"
      },
      "source": [
        "## Cleaning Pipelines"
      ]
    },
    {
      "cell_type": "code",
      "metadata": {
        "id": "wZBGa73NDUTt"
      },
      "source": [
        "def body_pipeline(input,only_nouns=False):\n",
        "\n",
        "  #clean_text\n",
        "  input=remove_punctuation(remove_html_tags(substitute_code(input)))\n",
        "  #text_mining\n",
        "  if not only_nouns:\n",
        "    input=lemmatize(remove_stopwords(input),only_nouns=False)\n",
        "  else:\n",
        "    input=lemmatize(remove_stopwords(input),only_nouns=True)\n",
        "\n",
        "  return input\n",
        "\n",
        "\n",
        "def code_pipeline(input):\n",
        "  \n",
        "  #extract_code\n",
        "  input=get_code(input)\n",
        "  #clean_code\n",
        "  return remove_punctuation(input)\n",
        "\n",
        "\n",
        "def title_pipeline(input,only_nouns=False):\n",
        "  #clean_text\n",
        "  input=remove_punctuation(input.lower())\n",
        "  #text_mining\n",
        "  if not only_nouns:\n",
        "    input=lemmatize(remove_stopwords(input),only_nouns=False)\n",
        "  else: \n",
        "    input=lemmatize(remove_stopwords(input),only_nouns=True)\n",
        "\n",
        "  return input\n",
        "\n",
        "def clean_tags(tags):\n",
        "\n",
        "  tags=tags.replace('>',' ')\n",
        "  tags=tags.replace('<',' ')\n",
        "  tags=remove_punctuation(tags)\n",
        "  unique = []\n",
        "  for tag in word_tokenize(tags):\n",
        "    if tag not in unique:\n",
        "        unique.append(tag)\n",
        "\n",
        "  return ' '.join(word for word in unique) \n",
        "\n"
      ],
      "execution_count": null,
      "outputs": []
    },
    {
      "cell_type": "code",
      "metadata": {
        "id": "y1z83rFmF4iH"
      },
      "source": [
        ""
      ],
      "execution_count": null,
      "outputs": []
    },
    {
      "cell_type": "markdown",
      "metadata": {
        "id": "x2Z9OhuXbkHY"
      },
      "source": [
        "## Cleaned Data"
      ]
    },
    {
      "cell_type": "markdown",
      "metadata": {
        "id": "mZVmMV6YbnML"
      },
      "source": [
        "### **Data**: including all word positions"
      ]
    },
    {
      "cell_type": "markdown",
      "metadata": {
        "id": "pFHKEQWCcErK"
      },
      "source": [
        "In this data we are going to include all the word positions (ADV,ADJ,VERB,NOUN)"
      ]
    },
    {
      "cell_type": "code",
      "metadata": {
        "id": "uonfZJE3B93k"
      },
      "source": [
        "data['code']=data['Body'].apply(code_pipeline)\n",
        "data['Title']=data['Title'].apply(lambda x: title_pipeline(x,only_nouns=False))\n",
        "data['Tags']=data['Tags'].apply(clean_tags)\n",
        "data['Body']=data['Body'].apply(lambda x: body_pipeline(x,only_nouns=False))"
      ],
      "execution_count": null,
      "outputs": []
    },
    {
      "cell_type": "code",
      "metadata": {
        "id": "aMtlZeQbYAmd"
      },
      "source": [
        "data=data[['Title','Body','code','Tags']]"
      ],
      "execution_count": null,
      "outputs": []
    },
    {
      "cell_type": "code",
      "metadata": {
        "id": "fwAgGfBc3RHn"
      },
      "source": [
        "data.to_csv('/content/drive/MyDrive/Formation_Machine_Learning/P_NLP/data/data.csv',index=False)"
      ],
      "execution_count": null,
      "outputs": []
    },
    {
      "cell_type": "markdown",
      "metadata": {
        "id": "OifV5Cko30ZV"
      },
      "source": [
        "### **Data_nouns**: keeping only **nouns** in texts"
      ]
    },
    {
      "cell_type": "markdown",
      "metadata": {
        "id": "RZJxXjlUdQsj"
      },
      "source": [
        "We are doing the same, but keeping only the nouns this time "
      ]
    },
    {
      "cell_type": "code",
      "metadata": {
        "id": "vcwoGZmz4GOC"
      },
      "source": [
        "data['code']=data['Body'].apply(code_pipeline)\n",
        "data['Title']=data['Title'].apply(lambda x: title_pipeline(x,only_nouns=True))\n",
        "data['Tags']=data['Tags'].apply(clean_tags)\n",
        "data['Body']=data['Body'].apply(lambda x: body_pipeline(x,only_nouns=True))"
      ],
      "execution_count": null,
      "outputs": []
    },
    {
      "cell_type": "code",
      "metadata": {
        "id": "vWwvlhOv3zk7"
      },
      "source": [
        "data_nouns=data[['Title','Body','code','Tags']]"
      ],
      "execution_count": null,
      "outputs": []
    },
    {
      "cell_type": "code",
      "metadata": {
        "id": "Fa_q_1dD4QaC"
      },
      "source": [
        "data_nouns.to_csv('/content/drive/MyDrive/Formation_Machine_Learning/P_NLP/data/data_nouns.csv',index=False)"
      ],
      "execution_count": null,
      "outputs": []
    },
    {
      "cell_type": "markdown",
      "metadata": {
        "id": "E6S8Ze7Meb6q"
      },
      "source": [
        "## Analysing the data"
      ]
    },
    {
      "cell_type": "markdown",
      "metadata": {
        "id": "aqngyH9gQsWS"
      },
      "source": [
        "####Number of unique words in the title corpus "
      ]
    },
    {
      "cell_type": "code",
      "metadata": {
        "colab": {
          "base_uri": "https://localhost:8080/"
        },
        "id": "CujepLSeQyWp",
        "outputId": "7970e939-09e9-4e85-91ce-bddcceccfb16"
      },
      "source": [
        "words=[]\n",
        "for sent in data['Title'].values.tolist():\n",
        "  for word in sent:\n",
        "    words.append(word)\n",
        "len(set(words))"
      ],
      "execution_count": null,
      "outputs": [
        {
          "output_type": "execute_result",
          "data": {
            "text/plain": [
              "111"
            ]
          },
          "metadata": {
            "tags": []
          },
          "execution_count": 49
        }
      ]
    },
    {
      "cell_type": "markdown",
      "metadata": {
        "id": "6m1VsDRF3GT0"
      },
      "source": [
        "#### get most frequent word"
      ]
    },
    {
      "cell_type": "code",
      "metadata": {
        "id": "UPVKty1ifEOv"
      },
      "source": [
        "data=pd.read_csv('/content/drive/MyDrive/Formation_Machine_Learning/P_NLP/data/data.csv')"
      ],
      "execution_count": null,
      "outputs": []
    },
    {
      "cell_type": "code",
      "metadata": {
        "id": "devw43mfklJ6"
      },
      "source": [
        "data.dropna(inplace=True)"
      ],
      "execution_count": null,
      "outputs": []
    },
    {
      "cell_type": "code",
      "metadata": {
        "id": "_LoEbzACfJy6",
        "colab": {
          "base_uri": "https://localhost:8080/",
          "height": 191
        },
        "outputId": "bfd53394-07f2-4c89-f1ae-309779ac8890"
      },
      "source": [
        "data.head()"
      ],
      "execution_count": null,
      "outputs": [
        {
          "output_type": "execute_result",
          "data": {
            "text/html": [
              "<div>\n",
              "<style scoped>\n",
              "    .dataframe tbody tr th:only-of-type {\n",
              "        vertical-align: middle;\n",
              "    }\n",
              "\n",
              "    .dataframe tbody tr th {\n",
              "        vertical-align: top;\n",
              "    }\n",
              "\n",
              "    .dataframe thead th {\n",
              "        text-align: right;\n",
              "    }\n",
              "</style>\n",
              "<table border=\"1\" class=\"dataframe\">\n",
              "  <thead>\n",
              "    <tr style=\"text-align: right;\">\n",
              "      <th></th>\n",
              "      <th>Title</th>\n",
              "      <th>Body</th>\n",
              "      <th>Code</th>\n",
              "      <th>Tags</th>\n",
              "    </tr>\n",
              "  </thead>\n",
              "  <tbody>\n",
              "    <tr>\n",
              "      <th>0</th>\n",
              "      <td>export default import vue find vue</td>\n",
              "      <td>beginner vuejs first app save nothing appear b...</td>\n",
              "      <td>import   bootstrapvue   from  bootstrap vue  i...</td>\n",
              "      <td>vuejs</td>\n",
              "    </tr>\n",
              "    <tr>\n",
              "      <th>1</th>\n",
              "      <td>iterate two list parallel kotlin</td>\n",
              "      <td>iterate two list kotlin assign value one list ...</td>\n",
              "      <td>textviewdata class total val area   double  pr...</td>\n",
              "      <td>list kotlin</td>\n",
              "    </tr>\n",
              "    <tr>\n",
              "      <th>2</th>\n",
              "      <td>directory contain directory</td>\n",
              "      <td>currently exclude directory contain sub direct...</td>\n",
              "      <td>find  type a sub b sub sub dub sub bub   fin...</td>\n",
              "      <td>bash find</td>\n",
              "    </tr>\n",
              "    <tr>\n",
              "      <th>3</th>\n",
              "      <td>faster element roll permutation swap two list</td>\n",
              "      <td>two list like take combination two list place ...</td>\n",
              "      <td>x a c    original lists y b a c             we...</td>\n",
              "      <td>python list algorithm</td>\n",
              "    </tr>\n",
              "    <tr>\n",
              "      <th>4</th>\n",
              "      <td>wait open txt file notepad cplusplus</td>\n",
              "      <td>open txt file notepad continue close notepad c...</td>\n",
              "      <td>string string topicname c   hello  hi  hi txt ...</td>\n",
              "      <td>cplusplus windows</td>\n",
              "    </tr>\n",
              "  </tbody>\n",
              "</table>\n",
              "</div>"
            ],
            "text/plain": [
              "                                           Title  ...                   Tags\n",
              "0             export default import vue find vue  ...                  vuejs\n",
              "1               iterate two list parallel kotlin  ...            list kotlin\n",
              "2                    directory contain directory  ...              bash find\n",
              "3  faster element roll permutation swap two list  ...  python list algorithm\n",
              "4           wait open txt file notepad cplusplus  ...      cplusplus windows\n",
              "\n",
              "[5 rows x 4 columns]"
            ]
          },
          "metadata": {
            "tags": []
          },
          "execution_count": 60
        }
      ]
    },
    {
      "cell_type": "code",
      "metadata": {
        "id": "ufHDZ5q85ZwK"
      },
      "source": [
        "from collections import Counter"
      ],
      "execution_count": null,
      "outputs": []
    },
    {
      "cell_type": "code",
      "metadata": {
        "id": "xgxap9Wo6ZuI"
      },
      "source": [
        "count=Counter()"
      ],
      "execution_count": null,
      "outputs": []
    },
    {
      "cell_type": "code",
      "metadata": {
        "id": "dwYLJRvdh9ni"
      },
      "source": [
        "from collections import defaultdict\n",
        "total = 0\n",
        "count = defaultdict(lambda: 0)\n",
        "for line in words:\n",
        "  for word in line:\n",
        "    total += 1\n",
        "    count[word] += 1"
      ],
      "execution_count": null,
      "outputs": []
    },
    {
      "cell_type": "code",
      "metadata": {
        "colab": {
          "base_uri": "https://localhost:8080/"
        },
        "id": "mrQHVYotirXm",
        "outputId": "c56c5422-7133-4383-b565-c97d111a2009"
      },
      "source": [
        "count['key']"
      ],
      "execution_count": null,
      "outputs": [
        {
          "output_type": "execute_result",
          "data": {
            "text/plain": [
              "147"
            ]
          },
          "metadata": {
            "tags": []
          },
          "execution_count": 49
        }
      ]
    },
    {
      "cell_type": "code",
      "metadata": {
        "id": "YSE5FNjb5doa"
      },
      "source": [
        "from collections import Counter,defaultdict\n",
        "count=Counter()\n",
        "lines=data['Title'].values.tolist()\n",
        "for sentence in lines:\n",
        "  count.update(word for word in word_tokenize(sentence))\n",
        "most_common=np.array(count.most_common())"
      ],
      "execution_count": null,
      "outputs": []
    },
    {
      "cell_type": "code",
      "metadata": {
        "colab": {
          "base_uri": "https://localhost:8080/"
        },
        "id": "zybI-NK2Rlxz",
        "outputId": "f2495ebc-60b5-4f06-dd73-27b7ef7d6b74"
      },
      "source": [
        "most_common.shape"
      ],
      "execution_count": null,
      "outputs": [
        {
          "output_type": "execute_result",
          "data": {
            "text/plain": [
              "(14387, 2)"
            ]
          },
          "metadata": {
            "tags": []
          },
          "execution_count": 53
        }
      ]
    },
    {
      "cell_type": "markdown",
      "metadata": {
        "id": "LtX6XXJBtr7M"
      },
      "source": [
        "**plot 20 most common words in the counter for the titles**"
      ]
    },
    {
      "cell_type": "code",
      "metadata": {
        "colab": {
          "base_uri": "https://localhost:8080/",
          "height": 498
        },
        "id": "AJp22BRJtzDj",
        "outputId": "1c99e175-548f-46bc-9d75-c3a82886e4be"
      },
      "source": [
        "fig, ax = plt.subplots(1,1,figsize=(12,8))    \n",
        "plt.barh(range(0,20), width=most_common[:20,1].astype(int))\n",
        "\n",
        "ax.set_yticks(range(0,20))\n",
        "ax.set_yticklabels(most_common[:20, 0], minor=False,fontdict={'fontsize':16})\n",
        "plt.title('Frequency of most common words')\n",
        "plt.show()"
      ],
      "execution_count": null,
      "outputs": [
        {
          "output_type": "display_data",
          "data": {
            "image/png": "[encoded data removed]",
            "text/plain": [
              "<Figure size 864x576 with 1 Axes>"
            ]
          },
          "metadata": {
            "tags": [],
            "needs_background": "light"
          }
        }
      ]
    },
    {
      "cell_type": "code",
      "metadata": {
        "colab": {
          "base_uri": "https://localhost:8080/"
        },
        "id": "2ayL2i4os4ZX",
        "outputId": "9b3ddffb-065a-4eee-a033-151167b2278f"
      },
      "source": [
        "np.array(count.most_common())[:100,0]"
      ],
      "execution_count": null,
      "outputs": [
        {
          "output_type": "execute_result",
          "data": {
            "text/plain": [
              "array(['use', 'value', 'error', 'function', 'python', 'column', 'list',\n",
              "       'file', 'array', 'type', 'data', 'string', 'java', 'multiple',\n",
              "       'object', 'class', 'app', 'row', 'flutter', 'android', 'return',\n",
              "       'two', 'one', 'dataframe', 'rLang', 'element', 'variable',\n",
              "       'javascript', 'set', 'base', 'number', 'time', 'fail', 'work',\n",
              "       'docker', 'different', 'image', 'panda', 'method', 'api', 'find',\n",
              "       'convert', 'group', 'angular', 'key', 'parameter', 'build',\n",
              "       'table', 'text', 'swiftui', 'module', 'map', 'component',\n",
              "       'cplusplus', 'inside', 'loop', 'google', 'line', 'spring',\n",
              "       'version', 'package', 'server', 'js', 'user', 'property', 'custom',\n",
              "       'json', 'ios', 'import', 'match', 'typescript', 'request', 'index',\n",
              "       'std', 'get', 'page', 'load', 'css', 'VisualStudio', 'result',\n",
              "       'filter', 'specific', 'issue', 'core', 'date', 'unable',\n",
              "       'template', 'firebase', 'git', 'possible', 'window', 'argument',\n",
              "       'field', 'call', 'give', 'project', 'within', 'stream', 'run',\n",
              "       'command'], dtype='<U43')"
            ]
          },
          "metadata": {
            "tags": []
          },
          "execution_count": 91
        }
      ]
    },
    {
      "cell_type": "code",
      "metadata": {
        "id": "I7A3ZPimpPev"
      },
      "source": [
        "most_common_words=sorted_items[:100,0]"
      ],
      "execution_count": null,
      "outputs": []
    },
    {
      "cell_type": "code",
      "metadata": {
        "colab": {
          "base_uri": "https://localhost:8080/"
        },
        "id": "e8cE7_845dc1",
        "outputId": "9ed9e389-8f0a-476f-ba3d-07cb4aab9b5f"
      },
      "source": [
        "most_common_words"
      ],
      "execution_count": null,
      "outputs": [
        {
          "output_type": "execute_result",
          "data": {
            "text/plain": [
              "[('use', 1241),\n",
              " ('value', 886),\n",
              " ('error', 841),\n",
              " ('function', 762),\n",
              " ('python', 694),\n",
              " ('column', 624),\n",
              " ('list', 624),\n",
              " ('file', 610),\n",
              " ('array', 599),\n",
              " ('type', 555),\n",
              " ('data', 527),\n",
              " ('string', 508),\n",
              " ('java', 423),\n",
              " ('multiple', 418),\n",
              " ('object', 417),\n",
              " ('class', 371),\n",
              " ('app', 352),\n",
              " ('row', 348),\n",
              " ('flutter', 325),\n",
              " ('android', 310),\n",
              " ('return', 298),\n",
              " ('two', 289),\n",
              " ('one', 288),\n",
              " ('dataframe', 288),\n",
              " ('rLang', 288),\n",
              " ('element', 287),\n",
              " ('variable', 286),\n",
              " ('javascript', 283),\n",
              " ('set', 280),\n",
              " ('base', 279),\n",
              " ('number', 278),\n",
              " ('time', 267),\n",
              " ('fail', 261),\n",
              " ('work', 255),\n",
              " ('docker', 253),\n",
              " ('different', 251),\n",
              " ('image', 243),\n",
              " ('panda', 239),\n",
              " ('method', 234),\n",
              " ('api', 231),\n",
              " ('find', 222),\n",
              " ('convert', 211),\n",
              " ('group', 211),\n",
              " ('angular', 210),\n",
              " ('key', 205),\n",
              " ('parameter', 201),\n",
              " ('build', 201),\n",
              " ('table', 200),\n",
              " ('text', 199),\n",
              " ('swiftui', 196),\n",
              " ('module', 189),\n",
              " ('map', 187),\n",
              " ('component', 184),\n",
              " ('cplusplus', 182),\n",
              " ('inside', 181),\n",
              " ('loop', 180),\n",
              " ('google', 176),\n",
              " ('line', 175),\n",
              " ('spring', 164),\n",
              " ('version', 163),\n",
              " ('package', 163),\n",
              " ('server', 162),\n",
              " ('js', 161),\n",
              " ('user', 159),\n",
              " ('property', 155),\n",
              " ('custom', 155),\n",
              " ('json', 155),\n",
              " ('ios', 155),\n",
              " ('import', 151),\n",
              " ('match', 149),\n",
              " ('typescript', 147),\n",
              " ('request', 146),\n",
              " ('index', 146),\n",
              " ('std', 144),\n",
              " ('get', 144),\n",
              " ('page', 143),\n",
              " ('load', 141),\n",
              " ('css', 140),\n",
              " ('VisualStudio', 139),\n",
              " ('result', 139),\n",
              " ('filter', 139),\n",
              " ('specific', 139),\n",
              " ('issue', 138),\n",
              " ('core', 137),\n",
              " ('date', 135),\n",
              " ('unable', 135),\n",
              " ('template', 135),\n",
              " ('firebase', 135),\n",
              " ('git', 134),\n",
              " ('possible', 134),\n",
              " ('window', 134),\n",
              " ('argument', 133),\n",
              " ('field', 133),\n",
              " ('call', 132),\n",
              " ('give', 131),\n",
              " ('project', 131),\n",
              " ('within', 130),\n",
              " ('stream', 130),\n",
              " ('run', 130),\n",
              " ('command', 129)]"
            ]
          },
          "metadata": {
            "tags": []
          },
          "execution_count": 86
        }
      ]
    },
    {
      "cell_type": "code",
      "metadata": {
        "colab": {
          "base_uri": "https://localhost:8080/"
        },
        "id": "rhV5JBpjnLNj",
        "outputId": "759fe7d7-5dc2-4ae1-8ec5-442c011fb47d"
      },
      "source": [
        "data.groupby('Tags')['Title'].count().sort_values(ascending=False).head(10)"
      ],
      "execution_count": null,
      "outputs": [
        {
          "output_type": "execute_result",
          "data": {
            "text/plain": [
              "Tags\n",
              " python  pandas                98\n",
              " python                        87\n",
              " javascript                    86\n",
              " python  pandas  dataframe     64\n",
              " c++                           57\n",
              " r  dplyr                      56\n",
              " r                             54\n",
              " html  css                     46\n",
              " flutter  dart                 32\n",
              " java                          30\n",
              "Name: Title, dtype: int64"
            ]
          },
          "metadata": {
            "tags": []
          },
          "execution_count": 72
        }
      ]
    }
  ]
}